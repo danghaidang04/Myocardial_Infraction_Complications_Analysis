{
 "cells": [
  {
   "cell_type": "markdown",
   "id": "78a3e83d9f440fc7",
   "metadata": {
    "id": "78a3e83d9f440fc7"
   },
   "source": [
    "# Myocardial Infraction Complications Analysis"
   ]
  },
  {
   "cell_type": "markdown",
   "id": "d152642d63a4220b",
   "metadata": {
    "id": "d152642d63a4220b"
   },
   "source": [
    "## 0. Introduction"
   ]
  },
  {
   "cell_type": "code",
   "id": "229f39d26daf6f9e",
   "metadata": {
    "id": "229f39d26daf6f9e",
    "ExecuteTime": {
     "end_time": "2024-06-02T02:49:28.321888Z",
     "start_time": "2024-06-02T02:49:28.316675Z"
    }
   },
   "source": [
    "import numpy as np\n",
    "import pandas as pd\n",
    "import warnings\n",
    "warnings.filterwarnings(\"ignore\")"
   ],
   "outputs": [],
   "execution_count": 196
  },
  {
   "cell_type": "code",
   "id": "4a282e867634e1e0",
   "metadata": {
    "colab": {
     "base_uri": "https://localhost:8080/",
     "height": 424
    },
    "id": "4a282e867634e1e0",
    "outputId": "6c3306ee-911b-4b44-9b13-880291fe4f1b",
    "ExecuteTime": {
     "end_time": "2024-06-02T02:49:29.782860Z",
     "start_time": "2024-06-02T02:49:29.561179Z"
    }
   },
   "source": [
    "data = pd.read_csv(\"MI.data\", header=None)\n",
    "data.columns = [\"ID\", \"AGE\", \"SEX\", \"INF_ANAM\", \"STENOK_AN\", \"FK_STENOK\", \"IBS_POST\", \"IBS_NASL\", \"GB\", \"SIM_GIPERT\", \"DLIT_AG\", \"ZSN_A\", \"nr_11\", \"nr_01\", \"nr_02\", \"nr_03\", \"nr_04\", \"nr_07\", \"nr_08\", \"np_01\", \"np_04\", \"np_05\", \"np_07\", \"np_08\", \"np_09\", \"np_10\", \"endocr_01\", \"endocr_02\", \"endocr_03\", \"zab_leg_01\", \"zab_leg_02\", \"zab_leg_03\", \"zab_leg_04\", \"zab_leg_06\", \"S_AD_KBRIG\", \"D_AD_KBRIG\", \"S_AD_ORIT\", \"D_AD_ORIT\", \"O_L_POST\", \"K_SH_POST\", \"MP_TP_POST\", \"SVT_POST\", \"GT_POST\", \"FIB_G_POST\", \"ant_im\", \"lat_im\", \"inf_im\", \"post_im\", \"IM_PG_P\", \"ritm_ecg_p_01\", \"ritm_ecg_p_02\", \"ritm_ecg_p_04\", \"ritm_ecg_p_06\", \"ritm_ecg_p_07\", \"ritm_ecg_p_08\", \"n_r_ecg_p_01\", \"n_r_ecg_p_02\", \"n_r_ecg_p_03\", \"n_r_ecg_p_04\", \"n_r_ecg_p_05\", \"n_r_ecg_p_06\", \"n_r_ecg_p_08\", \"n_r_ecg_p_09\", \"n_r_ecg_p_10\", \"n_p_ecg_p_01\", \"n_p_ecg_p_03\", \"n_p_ecg_p_04\", \"n_p_ecg_p_05\", \"n_p_ecg_p_06\", \"n_p_ecg_p_07\", \"n_p_ecg_p_08\", \"n_p_ecg_p_09\", \"n_p_ecg_p_10\", \"n_p_ecg_p_11\", \"n_p_ecg_p_12\", \"fibr_ter_01\", \"fibr_ter_02\", \"fibr_ter_03\", \"fibr_ter_05\", \"fibr_ter_06\", \"fibr_ter_07\", \"fibr_ter_08\", \"GIPO_K\", \"K_BLOOD\", \"GIPER_NA\", \"NA_BLOOD\", \"ALT_BLOOD\", \"AST_BLOOD\", \"KFK_BLOOD\", \"L_BLOOD\", \"ROE\", \"TIME_B_S\", \"R_AB_1_n\", \"R_AB_2_n\", \"R_AB_3_n\", \"NA_KB\", \"NOT_NA_KB\", \"LID_KB\", \"NITR_S\", \"NA_R_1_n\", \"NA_R_2_n\", \"NA_R_3_n\", \"NOT_NA_1_n\", \"NOT_NA_2_n\", \"NOT_NA_3_n\", \"LID_S_n\", \"B_BLOK_S_n\", \"ANT_CA_S_n\", \"GEPAR_S_n\", \"ASP_S_n\", \"TIKL_S_n\", \"TRENT_S_n\", \"FIBR_PREDS\", \"PREDS_TAH\", \"JELUD_TAH\", \"FIBR_JELUD\", \"A_V_BLOK\", \"OTEK_LANC\", \"RAZRIV\", \"DRESSLER\", \"ZSN\", \"REC_IM\", \"P_IM_STEN\", \"LET_IS\"]\n",
    "data.replace(\"?\", np.NaN, inplace=True)\n",
    "data = data.apply(pd.to_numeric, errors = \"coerce\")\n",
    "data"
   ],
   "outputs": [
    {
     "data": {
      "text/plain": [
       "        ID   AGE  SEX  INF_ANAM  STENOK_AN  FK_STENOK  IBS_POST  IBS_NASL  \\\n",
       "0        1  77.0    1       2.0        1.0        1.0       2.0       NaN   \n",
       "1        2  55.0    1       1.0        0.0        0.0       0.0       0.0   \n",
       "2        3  52.0    1       0.0        0.0        0.0       2.0       NaN   \n",
       "3        4  68.0    0       0.0        0.0        0.0       2.0       NaN   \n",
       "4        5  60.0    1       0.0        0.0        0.0       2.0       NaN   \n",
       "...    ...   ...  ...       ...        ...        ...       ...       ...   \n",
       "1695  1696  77.0    0       0.0        4.0        2.0       1.0       NaN   \n",
       "1696  1697  70.0    0       0.0        6.0        2.0       1.0       NaN   \n",
       "1697  1698  55.0    1       3.0        6.0        2.0       2.0       NaN   \n",
       "1698  1699  79.0    0       2.0        2.0        2.0       1.0       NaN   \n",
       "1699  1700  63.0    1       2.0        NaN        NaN       NaN       NaN   \n",
       "\n",
       "       GB  SIM_GIPERT  ...  JELUD_TAH  FIBR_JELUD  A_V_BLOK  OTEK_LANC  \\\n",
       "0     3.0         0.0  ...          0           0         0          0   \n",
       "1     0.0         0.0  ...          0           0         0          0   \n",
       "2     2.0         0.0  ...          0           0         0          0   \n",
       "3     2.0         0.0  ...          0           0         0          0   \n",
       "4     3.0         0.0  ...          0           0         0          0   \n",
       "...   ...         ...  ...        ...         ...       ...        ...   \n",
       "1695  2.0         0.0  ...          0           0         1          0   \n",
       "1696  2.0         0.0  ...          0           0         0          0   \n",
       "1697  0.0         0.0  ...          0           0         0          0   \n",
       "1698  2.0         0.0  ...          0           0         0          1   \n",
       "1699  2.0         0.0  ...          0           0         0          0   \n",
       "\n",
       "      RAZRIV  DRESSLER  ZSN  REC_IM  P_IM_STEN  LET_IS  \n",
       "0          0         0    0       0          0       0  \n",
       "1          0         0    0       0          0       0  \n",
       "2          0         0    0       0          0       0  \n",
       "3          0         0    1       0          0       0  \n",
       "4          0         0    0       0          0       0  \n",
       "...      ...       ...  ...     ...        ...     ...  \n",
       "1695       1         0    0       0          0       3  \n",
       "1696       0         0    0       0          0       1  \n",
       "1697       0         0    0       1          0       6  \n",
       "1698       0         0    0       0          0       1  \n",
       "1699       0         0    0       0          0       1  \n",
       "\n",
       "[1700 rows x 124 columns]"
      ],
      "text/html": [
       "<div>\n",
       "<style scoped>\n",
       "    .dataframe tbody tr th:only-of-type {\n",
       "        vertical-align: middle;\n",
       "    }\n",
       "\n",
       "    .dataframe tbody tr th {\n",
       "        vertical-align: top;\n",
       "    }\n",
       "\n",
       "    .dataframe thead th {\n",
       "        text-align: right;\n",
       "    }\n",
       "</style>\n",
       "<table border=\"1\" class=\"dataframe\">\n",
       "  <thead>\n",
       "    <tr style=\"text-align: right;\">\n",
       "      <th></th>\n",
       "      <th>ID</th>\n",
       "      <th>AGE</th>\n",
       "      <th>SEX</th>\n",
       "      <th>INF_ANAM</th>\n",
       "      <th>STENOK_AN</th>\n",
       "      <th>FK_STENOK</th>\n",
       "      <th>IBS_POST</th>\n",
       "      <th>IBS_NASL</th>\n",
       "      <th>GB</th>\n",
       "      <th>SIM_GIPERT</th>\n",
       "      <th>...</th>\n",
       "      <th>JELUD_TAH</th>\n",
       "      <th>FIBR_JELUD</th>\n",
       "      <th>A_V_BLOK</th>\n",
       "      <th>OTEK_LANC</th>\n",
       "      <th>RAZRIV</th>\n",
       "      <th>DRESSLER</th>\n",
       "      <th>ZSN</th>\n",
       "      <th>REC_IM</th>\n",
       "      <th>P_IM_STEN</th>\n",
       "      <th>LET_IS</th>\n",
       "    </tr>\n",
       "  </thead>\n",
       "  <tbody>\n",
       "    <tr>\n",
       "      <th>0</th>\n",
       "      <td>1</td>\n",
       "      <td>77.0</td>\n",
       "      <td>1</td>\n",
       "      <td>2.0</td>\n",
       "      <td>1.0</td>\n",
       "      <td>1.0</td>\n",
       "      <td>2.0</td>\n",
       "      <td>NaN</td>\n",
       "      <td>3.0</td>\n",
       "      <td>0.0</td>\n",
       "      <td>...</td>\n",
       "      <td>0</td>\n",
       "      <td>0</td>\n",
       "      <td>0</td>\n",
       "      <td>0</td>\n",
       "      <td>0</td>\n",
       "      <td>0</td>\n",
       "      <td>0</td>\n",
       "      <td>0</td>\n",
       "      <td>0</td>\n",
       "      <td>0</td>\n",
       "    </tr>\n",
       "    <tr>\n",
       "      <th>1</th>\n",
       "      <td>2</td>\n",
       "      <td>55.0</td>\n",
       "      <td>1</td>\n",
       "      <td>1.0</td>\n",
       "      <td>0.0</td>\n",
       "      <td>0.0</td>\n",
       "      <td>0.0</td>\n",
       "      <td>0.0</td>\n",
       "      <td>0.0</td>\n",
       "      <td>0.0</td>\n",
       "      <td>...</td>\n",
       "      <td>0</td>\n",
       "      <td>0</td>\n",
       "      <td>0</td>\n",
       "      <td>0</td>\n",
       "      <td>0</td>\n",
       "      <td>0</td>\n",
       "      <td>0</td>\n",
       "      <td>0</td>\n",
       "      <td>0</td>\n",
       "      <td>0</td>\n",
       "    </tr>\n",
       "    <tr>\n",
       "      <th>2</th>\n",
       "      <td>3</td>\n",
       "      <td>52.0</td>\n",
       "      <td>1</td>\n",
       "      <td>0.0</td>\n",
       "      <td>0.0</td>\n",
       "      <td>0.0</td>\n",
       "      <td>2.0</td>\n",
       "      <td>NaN</td>\n",
       "      <td>2.0</td>\n",
       "      <td>0.0</td>\n",
       "      <td>...</td>\n",
       "      <td>0</td>\n",
       "      <td>0</td>\n",
       "      <td>0</td>\n",
       "      <td>0</td>\n",
       "      <td>0</td>\n",
       "      <td>0</td>\n",
       "      <td>0</td>\n",
       "      <td>0</td>\n",
       "      <td>0</td>\n",
       "      <td>0</td>\n",
       "    </tr>\n",
       "    <tr>\n",
       "      <th>3</th>\n",
       "      <td>4</td>\n",
       "      <td>68.0</td>\n",
       "      <td>0</td>\n",
       "      <td>0.0</td>\n",
       "      <td>0.0</td>\n",
       "      <td>0.0</td>\n",
       "      <td>2.0</td>\n",
       "      <td>NaN</td>\n",
       "      <td>2.0</td>\n",
       "      <td>0.0</td>\n",
       "      <td>...</td>\n",
       "      <td>0</td>\n",
       "      <td>0</td>\n",
       "      <td>0</td>\n",
       "      <td>0</td>\n",
       "      <td>0</td>\n",
       "      <td>0</td>\n",
       "      <td>1</td>\n",
       "      <td>0</td>\n",
       "      <td>0</td>\n",
       "      <td>0</td>\n",
       "    </tr>\n",
       "    <tr>\n",
       "      <th>4</th>\n",
       "      <td>5</td>\n",
       "      <td>60.0</td>\n",
       "      <td>1</td>\n",
       "      <td>0.0</td>\n",
       "      <td>0.0</td>\n",
       "      <td>0.0</td>\n",
       "      <td>2.0</td>\n",
       "      <td>NaN</td>\n",
       "      <td>3.0</td>\n",
       "      <td>0.0</td>\n",
       "      <td>...</td>\n",
       "      <td>0</td>\n",
       "      <td>0</td>\n",
       "      <td>0</td>\n",
       "      <td>0</td>\n",
       "      <td>0</td>\n",
       "      <td>0</td>\n",
       "      <td>0</td>\n",
       "      <td>0</td>\n",
       "      <td>0</td>\n",
       "      <td>0</td>\n",
       "    </tr>\n",
       "    <tr>\n",
       "      <th>...</th>\n",
       "      <td>...</td>\n",
       "      <td>...</td>\n",
       "      <td>...</td>\n",
       "      <td>...</td>\n",
       "      <td>...</td>\n",
       "      <td>...</td>\n",
       "      <td>...</td>\n",
       "      <td>...</td>\n",
       "      <td>...</td>\n",
       "      <td>...</td>\n",
       "      <td>...</td>\n",
       "      <td>...</td>\n",
       "      <td>...</td>\n",
       "      <td>...</td>\n",
       "      <td>...</td>\n",
       "      <td>...</td>\n",
       "      <td>...</td>\n",
       "      <td>...</td>\n",
       "      <td>...</td>\n",
       "      <td>...</td>\n",
       "      <td>...</td>\n",
       "    </tr>\n",
       "    <tr>\n",
       "      <th>1695</th>\n",
       "      <td>1696</td>\n",
       "      <td>77.0</td>\n",
       "      <td>0</td>\n",
       "      <td>0.0</td>\n",
       "      <td>4.0</td>\n",
       "      <td>2.0</td>\n",
       "      <td>1.0</td>\n",
       "      <td>NaN</td>\n",
       "      <td>2.0</td>\n",
       "      <td>0.0</td>\n",
       "      <td>...</td>\n",
       "      <td>0</td>\n",
       "      <td>0</td>\n",
       "      <td>1</td>\n",
       "      <td>0</td>\n",
       "      <td>1</td>\n",
       "      <td>0</td>\n",
       "      <td>0</td>\n",
       "      <td>0</td>\n",
       "      <td>0</td>\n",
       "      <td>3</td>\n",
       "    </tr>\n",
       "    <tr>\n",
       "      <th>1696</th>\n",
       "      <td>1697</td>\n",
       "      <td>70.0</td>\n",
       "      <td>0</td>\n",
       "      <td>0.0</td>\n",
       "      <td>6.0</td>\n",
       "      <td>2.0</td>\n",
       "      <td>1.0</td>\n",
       "      <td>NaN</td>\n",
       "      <td>2.0</td>\n",
       "      <td>0.0</td>\n",
       "      <td>...</td>\n",
       "      <td>0</td>\n",
       "      <td>0</td>\n",
       "      <td>0</td>\n",
       "      <td>0</td>\n",
       "      <td>0</td>\n",
       "      <td>0</td>\n",
       "      <td>0</td>\n",
       "      <td>0</td>\n",
       "      <td>0</td>\n",
       "      <td>1</td>\n",
       "    </tr>\n",
       "    <tr>\n",
       "      <th>1697</th>\n",
       "      <td>1698</td>\n",
       "      <td>55.0</td>\n",
       "      <td>1</td>\n",
       "      <td>3.0</td>\n",
       "      <td>6.0</td>\n",
       "      <td>2.0</td>\n",
       "      <td>2.0</td>\n",
       "      <td>NaN</td>\n",
       "      <td>0.0</td>\n",
       "      <td>0.0</td>\n",
       "      <td>...</td>\n",
       "      <td>0</td>\n",
       "      <td>0</td>\n",
       "      <td>0</td>\n",
       "      <td>0</td>\n",
       "      <td>0</td>\n",
       "      <td>0</td>\n",
       "      <td>0</td>\n",
       "      <td>1</td>\n",
       "      <td>0</td>\n",
       "      <td>6</td>\n",
       "    </tr>\n",
       "    <tr>\n",
       "      <th>1698</th>\n",
       "      <td>1699</td>\n",
       "      <td>79.0</td>\n",
       "      <td>0</td>\n",
       "      <td>2.0</td>\n",
       "      <td>2.0</td>\n",
       "      <td>2.0</td>\n",
       "      <td>1.0</td>\n",
       "      <td>NaN</td>\n",
       "      <td>2.0</td>\n",
       "      <td>0.0</td>\n",
       "      <td>...</td>\n",
       "      <td>0</td>\n",
       "      <td>0</td>\n",
       "      <td>0</td>\n",
       "      <td>1</td>\n",
       "      <td>0</td>\n",
       "      <td>0</td>\n",
       "      <td>0</td>\n",
       "      <td>0</td>\n",
       "      <td>0</td>\n",
       "      <td>1</td>\n",
       "    </tr>\n",
       "    <tr>\n",
       "      <th>1699</th>\n",
       "      <td>1700</td>\n",
       "      <td>63.0</td>\n",
       "      <td>1</td>\n",
       "      <td>2.0</td>\n",
       "      <td>NaN</td>\n",
       "      <td>NaN</td>\n",
       "      <td>NaN</td>\n",
       "      <td>NaN</td>\n",
       "      <td>2.0</td>\n",
       "      <td>0.0</td>\n",
       "      <td>...</td>\n",
       "      <td>0</td>\n",
       "      <td>0</td>\n",
       "      <td>0</td>\n",
       "      <td>0</td>\n",
       "      <td>0</td>\n",
       "      <td>0</td>\n",
       "      <td>0</td>\n",
       "      <td>0</td>\n",
       "      <td>0</td>\n",
       "      <td>1</td>\n",
       "    </tr>\n",
       "  </tbody>\n",
       "</table>\n",
       "<p>1700 rows × 124 columns</p>\n",
       "</div>"
      ]
     },
     "execution_count": 197,
     "metadata": {},
     "output_type": "execute_result"
    }
   ],
   "execution_count": 197
  },
  {
   "cell_type": "code",
   "id": "f0da78d177a97b24",
   "metadata": {
    "id": "f0da78d177a97b24",
    "ExecuteTime": {
     "end_time": "2024-06-02T02:49:29.790300Z",
     "start_time": "2024-06-02T02:49:29.784874Z"
    }
   },
   "source": [
    "related_time_features = [\"R_AB_1_n\",\"R_AB_2_n\", \"R_AB_3_n\", \"NA_R_1_n\", \"NA_R_2_n\", \"NA_R_3_n\", \"NOT_NA_1_n\",\"NOT_NA_2_n\", \"NOT_NA_3_n\"]"
   ],
   "outputs": [],
   "execution_count": 198
  },
  {
   "cell_type": "markdown",
   "id": "7f2e380395edc9eb",
   "metadata": {
    "id": "7f2e380395edc9eb"
   },
   "source": [
    "## 1. Train-Validation-Test Split"
   ]
  },
  {
   "cell_type": "code",
   "id": "bfc1f11968db12a1",
   "metadata": {
    "id": "bfc1f11968db12a1",
    "ExecuteTime": {
     "end_time": "2024-06-02T02:49:29.836873Z",
     "start_time": "2024-06-02T02:49:29.793315Z"
    }
   },
   "source": [
    "from sklearn.model_selection import train_test_split\n",
    "X = data.iloc[:, 1:112]\n",
    "X = X.drop(related_time_features, axis=1)\n",
    "y = [data[\"ZSN\"], data[\"FIBR_PREDS\"], data[\"P_IM_STEN\"], data[\"REC_IM\"], data[\"OTEK_LANC\"]]\n",
    "\n",
    "X_train, X_test, y_train, y_test = [], [], [], []\n",
    "\n",
    "# ! Caution\n",
    "# i = 0 => ZSN or Chronic heart failure\n",
    "# i = 1 => FIBR_PREDS or Atrial fibrillation\n",
    "# i = 2 => P_IM_STEN or Post-infarction angina\n",
    "# i = 3 => REC_IM or Relapse of the myocardial infarction\n",
    "# i = 4 => OTEK_LANC or Pulmonary edema\n",
    "\n",
    "for i in range(len(y)):\n",
    "    # Separate train/test split for each target variable\n",
    "    # Split the data into train and temporary sets\n",
    "    X_train_i, X_test_i, y_train_i, y_test_i = train_test_split(X, y[i], train_size=0.7, random_state=0, stratify=y[i])\n",
    "\n",
    "    X_train.append(X_train_i)\n",
    "    X_test.append(X_test_i)\n",
    "    y_train.append(y_train_i)\n",
    "    y_test.append(y_test_i)\n"
   ],
   "outputs": [],
   "execution_count": 199
  },
  {
   "cell_type": "code",
   "id": "859f29bc7e1f883",
   "metadata": {
    "colab": {
     "base_uri": "https://localhost:8080/",
     "height": 125
    },
    "id": "859f29bc7e1f883",
    "outputId": "5397133c-2d80-4033-d022-0779548b901d",
    "ExecuteTime": {
     "end_time": "2024-06-02T02:49:29.857196Z",
     "start_time": "2024-06-02T02:49:29.840890Z"
    }
   },
   "source": [
    "# Check the number of samples in each set and print as a table\n",
    "results = {\"Set\": [\"Train\", \"Test\"]}\n",
    "for i in range(len(y)):\n",
    "    results[f\"y{i}\"] = [len(y_train[i]), len(y_test[i])]\n",
    "results = pd.DataFrame(results)\n",
    "results"
   ],
   "outputs": [
    {
     "data": {
      "text/plain": [
       "     Set    y0    y1    y2    y3    y4\n",
       "0  Train  1190  1190  1190  1190  1190\n",
       "1   Test   510   510   510   510   510"
      ],
      "text/html": [
       "<div>\n",
       "<style scoped>\n",
       "    .dataframe tbody tr th:only-of-type {\n",
       "        vertical-align: middle;\n",
       "    }\n",
       "\n",
       "    .dataframe tbody tr th {\n",
       "        vertical-align: top;\n",
       "    }\n",
       "\n",
       "    .dataframe thead th {\n",
       "        text-align: right;\n",
       "    }\n",
       "</style>\n",
       "<table border=\"1\" class=\"dataframe\">\n",
       "  <thead>\n",
       "    <tr style=\"text-align: right;\">\n",
       "      <th></th>\n",
       "      <th>Set</th>\n",
       "      <th>y0</th>\n",
       "      <th>y1</th>\n",
       "      <th>y2</th>\n",
       "      <th>y3</th>\n",
       "      <th>y4</th>\n",
       "    </tr>\n",
       "  </thead>\n",
       "  <tbody>\n",
       "    <tr>\n",
       "      <th>0</th>\n",
       "      <td>Train</td>\n",
       "      <td>1190</td>\n",
       "      <td>1190</td>\n",
       "      <td>1190</td>\n",
       "      <td>1190</td>\n",
       "      <td>1190</td>\n",
       "    </tr>\n",
       "    <tr>\n",
       "      <th>1</th>\n",
       "      <td>Test</td>\n",
       "      <td>510</td>\n",
       "      <td>510</td>\n",
       "      <td>510</td>\n",
       "      <td>510</td>\n",
       "      <td>510</td>\n",
       "    </tr>\n",
       "  </tbody>\n",
       "</table>\n",
       "</div>"
      ]
     },
     "execution_count": 200,
     "metadata": {},
     "output_type": "execute_result"
    }
   ],
   "execution_count": 200
  },
  {
   "cell_type": "markdown",
   "id": "74b36820661d0c4c",
   "metadata": {
    "id": "74b36820661d0c4c"
   },
   "source": [
    "## 2. EDA"
   ]
  },
  {
   "cell_type": "markdown",
   "id": "44fca05ecc8ec701",
   "metadata": {
    "id": "44fca05ecc8ec701"
   },
   "source": [
    "### Data Overview"
   ]
  },
  {
   "cell_type": "code",
   "id": "77e9c91df6f589ce",
   "metadata": {
    "colab": {
     "base_uri": "https://localhost:8080/",
     "height": 424
    },
    "id": "77e9c91df6f589ce",
    "outputId": "b93304b8-5b51-46e7-8a3d-2efbfeae37ae",
    "ExecuteTime": {
     "end_time": "2024-06-02T02:49:30.114410Z",
     "start_time": "2024-06-02T02:49:30.076891Z"
    }
   },
   "source": [
    "data"
   ],
   "outputs": [
    {
     "data": {
      "text/plain": [
       "        ID   AGE  SEX  INF_ANAM  STENOK_AN  FK_STENOK  IBS_POST  IBS_NASL  \\\n",
       "0        1  77.0    1       2.0        1.0        1.0       2.0       NaN   \n",
       "1        2  55.0    1       1.0        0.0        0.0       0.0       0.0   \n",
       "2        3  52.0    1       0.0        0.0        0.0       2.0       NaN   \n",
       "3        4  68.0    0       0.0        0.0        0.0       2.0       NaN   \n",
       "4        5  60.0    1       0.0        0.0        0.0       2.0       NaN   \n",
       "...    ...   ...  ...       ...        ...        ...       ...       ...   \n",
       "1695  1696  77.0    0       0.0        4.0        2.0       1.0       NaN   \n",
       "1696  1697  70.0    0       0.0        6.0        2.0       1.0       NaN   \n",
       "1697  1698  55.0    1       3.0        6.0        2.0       2.0       NaN   \n",
       "1698  1699  79.0    0       2.0        2.0        2.0       1.0       NaN   \n",
       "1699  1700  63.0    1       2.0        NaN        NaN       NaN       NaN   \n",
       "\n",
       "       GB  SIM_GIPERT  ...  JELUD_TAH  FIBR_JELUD  A_V_BLOK  OTEK_LANC  \\\n",
       "0     3.0         0.0  ...          0           0         0          0   \n",
       "1     0.0         0.0  ...          0           0         0          0   \n",
       "2     2.0         0.0  ...          0           0         0          0   \n",
       "3     2.0         0.0  ...          0           0         0          0   \n",
       "4     3.0         0.0  ...          0           0         0          0   \n",
       "...   ...         ...  ...        ...         ...       ...        ...   \n",
       "1695  2.0         0.0  ...          0           0         1          0   \n",
       "1696  2.0         0.0  ...          0           0         0          0   \n",
       "1697  0.0         0.0  ...          0           0         0          0   \n",
       "1698  2.0         0.0  ...          0           0         0          1   \n",
       "1699  2.0         0.0  ...          0           0         0          0   \n",
       "\n",
       "      RAZRIV  DRESSLER  ZSN  REC_IM  P_IM_STEN  LET_IS  \n",
       "0          0         0    0       0          0       0  \n",
       "1          0         0    0       0          0       0  \n",
       "2          0         0    0       0          0       0  \n",
       "3          0         0    1       0          0       0  \n",
       "4          0         0    0       0          0       0  \n",
       "...      ...       ...  ...     ...        ...     ...  \n",
       "1695       1         0    0       0          0       3  \n",
       "1696       0         0    0       0          0       1  \n",
       "1697       0         0    0       1          0       6  \n",
       "1698       0         0    0       0          0       1  \n",
       "1699       0         0    0       0          0       1  \n",
       "\n",
       "[1700 rows x 124 columns]"
      ],
      "text/html": [
       "<div>\n",
       "<style scoped>\n",
       "    .dataframe tbody tr th:only-of-type {\n",
       "        vertical-align: middle;\n",
       "    }\n",
       "\n",
       "    .dataframe tbody tr th {\n",
       "        vertical-align: top;\n",
       "    }\n",
       "\n",
       "    .dataframe thead th {\n",
       "        text-align: right;\n",
       "    }\n",
       "</style>\n",
       "<table border=\"1\" class=\"dataframe\">\n",
       "  <thead>\n",
       "    <tr style=\"text-align: right;\">\n",
       "      <th></th>\n",
       "      <th>ID</th>\n",
       "      <th>AGE</th>\n",
       "      <th>SEX</th>\n",
       "      <th>INF_ANAM</th>\n",
       "      <th>STENOK_AN</th>\n",
       "      <th>FK_STENOK</th>\n",
       "      <th>IBS_POST</th>\n",
       "      <th>IBS_NASL</th>\n",
       "      <th>GB</th>\n",
       "      <th>SIM_GIPERT</th>\n",
       "      <th>...</th>\n",
       "      <th>JELUD_TAH</th>\n",
       "      <th>FIBR_JELUD</th>\n",
       "      <th>A_V_BLOK</th>\n",
       "      <th>OTEK_LANC</th>\n",
       "      <th>RAZRIV</th>\n",
       "      <th>DRESSLER</th>\n",
       "      <th>ZSN</th>\n",
       "      <th>REC_IM</th>\n",
       "      <th>P_IM_STEN</th>\n",
       "      <th>LET_IS</th>\n",
       "    </tr>\n",
       "  </thead>\n",
       "  <tbody>\n",
       "    <tr>\n",
       "      <th>0</th>\n",
       "      <td>1</td>\n",
       "      <td>77.0</td>\n",
       "      <td>1</td>\n",
       "      <td>2.0</td>\n",
       "      <td>1.0</td>\n",
       "      <td>1.0</td>\n",
       "      <td>2.0</td>\n",
       "      <td>NaN</td>\n",
       "      <td>3.0</td>\n",
       "      <td>0.0</td>\n",
       "      <td>...</td>\n",
       "      <td>0</td>\n",
       "      <td>0</td>\n",
       "      <td>0</td>\n",
       "      <td>0</td>\n",
       "      <td>0</td>\n",
       "      <td>0</td>\n",
       "      <td>0</td>\n",
       "      <td>0</td>\n",
       "      <td>0</td>\n",
       "      <td>0</td>\n",
       "    </tr>\n",
       "    <tr>\n",
       "      <th>1</th>\n",
       "      <td>2</td>\n",
       "      <td>55.0</td>\n",
       "      <td>1</td>\n",
       "      <td>1.0</td>\n",
       "      <td>0.0</td>\n",
       "      <td>0.0</td>\n",
       "      <td>0.0</td>\n",
       "      <td>0.0</td>\n",
       "      <td>0.0</td>\n",
       "      <td>0.0</td>\n",
       "      <td>...</td>\n",
       "      <td>0</td>\n",
       "      <td>0</td>\n",
       "      <td>0</td>\n",
       "      <td>0</td>\n",
       "      <td>0</td>\n",
       "      <td>0</td>\n",
       "      <td>0</td>\n",
       "      <td>0</td>\n",
       "      <td>0</td>\n",
       "      <td>0</td>\n",
       "    </tr>\n",
       "    <tr>\n",
       "      <th>2</th>\n",
       "      <td>3</td>\n",
       "      <td>52.0</td>\n",
       "      <td>1</td>\n",
       "      <td>0.0</td>\n",
       "      <td>0.0</td>\n",
       "      <td>0.0</td>\n",
       "      <td>2.0</td>\n",
       "      <td>NaN</td>\n",
       "      <td>2.0</td>\n",
       "      <td>0.0</td>\n",
       "      <td>...</td>\n",
       "      <td>0</td>\n",
       "      <td>0</td>\n",
       "      <td>0</td>\n",
       "      <td>0</td>\n",
       "      <td>0</td>\n",
       "      <td>0</td>\n",
       "      <td>0</td>\n",
       "      <td>0</td>\n",
       "      <td>0</td>\n",
       "      <td>0</td>\n",
       "    </tr>\n",
       "    <tr>\n",
       "      <th>3</th>\n",
       "      <td>4</td>\n",
       "      <td>68.0</td>\n",
       "      <td>0</td>\n",
       "      <td>0.0</td>\n",
       "      <td>0.0</td>\n",
       "      <td>0.0</td>\n",
       "      <td>2.0</td>\n",
       "      <td>NaN</td>\n",
       "      <td>2.0</td>\n",
       "      <td>0.0</td>\n",
       "      <td>...</td>\n",
       "      <td>0</td>\n",
       "      <td>0</td>\n",
       "      <td>0</td>\n",
       "      <td>0</td>\n",
       "      <td>0</td>\n",
       "      <td>0</td>\n",
       "      <td>1</td>\n",
       "      <td>0</td>\n",
       "      <td>0</td>\n",
       "      <td>0</td>\n",
       "    </tr>\n",
       "    <tr>\n",
       "      <th>4</th>\n",
       "      <td>5</td>\n",
       "      <td>60.0</td>\n",
       "      <td>1</td>\n",
       "      <td>0.0</td>\n",
       "      <td>0.0</td>\n",
       "      <td>0.0</td>\n",
       "      <td>2.0</td>\n",
       "      <td>NaN</td>\n",
       "      <td>3.0</td>\n",
       "      <td>0.0</td>\n",
       "      <td>...</td>\n",
       "      <td>0</td>\n",
       "      <td>0</td>\n",
       "      <td>0</td>\n",
       "      <td>0</td>\n",
       "      <td>0</td>\n",
       "      <td>0</td>\n",
       "      <td>0</td>\n",
       "      <td>0</td>\n",
       "      <td>0</td>\n",
       "      <td>0</td>\n",
       "    </tr>\n",
       "    <tr>\n",
       "      <th>...</th>\n",
       "      <td>...</td>\n",
       "      <td>...</td>\n",
       "      <td>...</td>\n",
       "      <td>...</td>\n",
       "      <td>...</td>\n",
       "      <td>...</td>\n",
       "      <td>...</td>\n",
       "      <td>...</td>\n",
       "      <td>...</td>\n",
       "      <td>...</td>\n",
       "      <td>...</td>\n",
       "      <td>...</td>\n",
       "      <td>...</td>\n",
       "      <td>...</td>\n",
       "      <td>...</td>\n",
       "      <td>...</td>\n",
       "      <td>...</td>\n",
       "      <td>...</td>\n",
       "      <td>...</td>\n",
       "      <td>...</td>\n",
       "      <td>...</td>\n",
       "    </tr>\n",
       "    <tr>\n",
       "      <th>1695</th>\n",
       "      <td>1696</td>\n",
       "      <td>77.0</td>\n",
       "      <td>0</td>\n",
       "      <td>0.0</td>\n",
       "      <td>4.0</td>\n",
       "      <td>2.0</td>\n",
       "      <td>1.0</td>\n",
       "      <td>NaN</td>\n",
       "      <td>2.0</td>\n",
       "      <td>0.0</td>\n",
       "      <td>...</td>\n",
       "      <td>0</td>\n",
       "      <td>0</td>\n",
       "      <td>1</td>\n",
       "      <td>0</td>\n",
       "      <td>1</td>\n",
       "      <td>0</td>\n",
       "      <td>0</td>\n",
       "      <td>0</td>\n",
       "      <td>0</td>\n",
       "      <td>3</td>\n",
       "    </tr>\n",
       "    <tr>\n",
       "      <th>1696</th>\n",
       "      <td>1697</td>\n",
       "      <td>70.0</td>\n",
       "      <td>0</td>\n",
       "      <td>0.0</td>\n",
       "      <td>6.0</td>\n",
       "      <td>2.0</td>\n",
       "      <td>1.0</td>\n",
       "      <td>NaN</td>\n",
       "      <td>2.0</td>\n",
       "      <td>0.0</td>\n",
       "      <td>...</td>\n",
       "      <td>0</td>\n",
       "      <td>0</td>\n",
       "      <td>0</td>\n",
       "      <td>0</td>\n",
       "      <td>0</td>\n",
       "      <td>0</td>\n",
       "      <td>0</td>\n",
       "      <td>0</td>\n",
       "      <td>0</td>\n",
       "      <td>1</td>\n",
       "    </tr>\n",
       "    <tr>\n",
       "      <th>1697</th>\n",
       "      <td>1698</td>\n",
       "      <td>55.0</td>\n",
       "      <td>1</td>\n",
       "      <td>3.0</td>\n",
       "      <td>6.0</td>\n",
       "      <td>2.0</td>\n",
       "      <td>2.0</td>\n",
       "      <td>NaN</td>\n",
       "      <td>0.0</td>\n",
       "      <td>0.0</td>\n",
       "      <td>...</td>\n",
       "      <td>0</td>\n",
       "      <td>0</td>\n",
       "      <td>0</td>\n",
       "      <td>0</td>\n",
       "      <td>0</td>\n",
       "      <td>0</td>\n",
       "      <td>0</td>\n",
       "      <td>1</td>\n",
       "      <td>0</td>\n",
       "      <td>6</td>\n",
       "    </tr>\n",
       "    <tr>\n",
       "      <th>1698</th>\n",
       "      <td>1699</td>\n",
       "      <td>79.0</td>\n",
       "      <td>0</td>\n",
       "      <td>2.0</td>\n",
       "      <td>2.0</td>\n",
       "      <td>2.0</td>\n",
       "      <td>1.0</td>\n",
       "      <td>NaN</td>\n",
       "      <td>2.0</td>\n",
       "      <td>0.0</td>\n",
       "      <td>...</td>\n",
       "      <td>0</td>\n",
       "      <td>0</td>\n",
       "      <td>0</td>\n",
       "      <td>1</td>\n",
       "      <td>0</td>\n",
       "      <td>0</td>\n",
       "      <td>0</td>\n",
       "      <td>0</td>\n",
       "      <td>0</td>\n",
       "      <td>1</td>\n",
       "    </tr>\n",
       "    <tr>\n",
       "      <th>1699</th>\n",
       "      <td>1700</td>\n",
       "      <td>63.0</td>\n",
       "      <td>1</td>\n",
       "      <td>2.0</td>\n",
       "      <td>NaN</td>\n",
       "      <td>NaN</td>\n",
       "      <td>NaN</td>\n",
       "      <td>NaN</td>\n",
       "      <td>2.0</td>\n",
       "      <td>0.0</td>\n",
       "      <td>...</td>\n",
       "      <td>0</td>\n",
       "      <td>0</td>\n",
       "      <td>0</td>\n",
       "      <td>0</td>\n",
       "      <td>0</td>\n",
       "      <td>0</td>\n",
       "      <td>0</td>\n",
       "      <td>0</td>\n",
       "      <td>0</td>\n",
       "      <td>1</td>\n",
       "    </tr>\n",
       "  </tbody>\n",
       "</table>\n",
       "<p>1700 rows × 124 columns</p>\n",
       "</div>"
      ]
     },
     "execution_count": 201,
     "metadata": {},
     "output_type": "execute_result"
    }
   ],
   "execution_count": 201
  },
  {
   "cell_type": "markdown",
   "id": "da48e701111b4c89",
   "metadata": {
    "id": "da48e701111b4c89"
   },
   "source": [
    "### Target Balance Check"
   ]
  },
  {
   "cell_type": "code",
   "id": "dd81180b32aae85a",
   "metadata": {
    "colab": {
     "base_uri": "https://localhost:8080/",
     "height": 206
    },
    "id": "dd81180b32aae85a",
    "outputId": "5dba8dd7-bf63-4f79-93a4-4364eb7e4f92",
    "ExecuteTime": {
     "end_time": "2024-06-02T02:49:30.374473Z",
     "start_time": "2024-06-02T02:49:30.349539Z"
    }
   },
   "source": [
    "# The number of instances in the dataset\n",
    "number_of_instances = len(data)\n",
    "# Create a table to show the balance of each target variable\n",
    "results = {\"Target\": [], \"0\": [], \"1\": []}\n",
    "for i in range(len(y)):\n",
    "    results[\"Target\"].append(f\"y{i}\")\n",
    "    results[\"0\"].append(y[i].value_counts()[0] / number_of_instances)\n",
    "    results[\"1\"].append(y[i].value_counts()[1] / number_of_instances)\n",
    "results = pd.DataFrame(results)\n",
    "results"
   ],
   "outputs": [
    {
     "data": {
      "text/plain": [
       "  Target         0         1\n",
       "0     y0  0.768235  0.231765\n",
       "1     y1  0.900000  0.100000\n",
       "2     y2  0.912941  0.087059\n",
       "3     y3  0.906471  0.093529\n",
       "4     y4  0.906471  0.093529"
      ],
      "text/html": [
       "<div>\n",
       "<style scoped>\n",
       "    .dataframe tbody tr th:only-of-type {\n",
       "        vertical-align: middle;\n",
       "    }\n",
       "\n",
       "    .dataframe tbody tr th {\n",
       "        vertical-align: top;\n",
       "    }\n",
       "\n",
       "    .dataframe thead th {\n",
       "        text-align: right;\n",
       "    }\n",
       "</style>\n",
       "<table border=\"1\" class=\"dataframe\">\n",
       "  <thead>\n",
       "    <tr style=\"text-align: right;\">\n",
       "      <th></th>\n",
       "      <th>Target</th>\n",
       "      <th>0</th>\n",
       "      <th>1</th>\n",
       "    </tr>\n",
       "  </thead>\n",
       "  <tbody>\n",
       "    <tr>\n",
       "      <th>0</th>\n",
       "      <td>y0</td>\n",
       "      <td>0.768235</td>\n",
       "      <td>0.231765</td>\n",
       "    </tr>\n",
       "    <tr>\n",
       "      <th>1</th>\n",
       "      <td>y1</td>\n",
       "      <td>0.900000</td>\n",
       "      <td>0.100000</td>\n",
       "    </tr>\n",
       "    <tr>\n",
       "      <th>2</th>\n",
       "      <td>y2</td>\n",
       "      <td>0.912941</td>\n",
       "      <td>0.087059</td>\n",
       "    </tr>\n",
       "    <tr>\n",
       "      <th>3</th>\n",
       "      <td>y3</td>\n",
       "      <td>0.906471</td>\n",
       "      <td>0.093529</td>\n",
       "    </tr>\n",
       "    <tr>\n",
       "      <th>4</th>\n",
       "      <td>y4</td>\n",
       "      <td>0.906471</td>\n",
       "      <td>0.093529</td>\n",
       "    </tr>\n",
       "  </tbody>\n",
       "</table>\n",
       "</div>"
      ]
     },
     "execution_count": 202,
     "metadata": {},
     "output_type": "execute_result"
    }
   ],
   "execution_count": 202
  },
  {
   "cell_type": "markdown",
   "id": "e4f076caf51ef9d1",
   "metadata": {
    "id": "e4f076caf51ef9d1"
   },
   "source": [
    "### Check for missing values"
   ]
  },
  {
   "cell_type": "code",
   "id": "27c9b86ec54f7186",
   "metadata": {
    "colab": {
     "base_uri": "https://localhost:8080/",
     "height": 424
    },
    "id": "27c9b86ec54f7186",
    "outputId": "9c564cb2-6cbf-4c2c-b90d-8631b1f77638",
    "ExecuteTime": {
     "end_time": "2024-06-02T02:49:30.854194Z",
     "start_time": "2024-06-02T02:49:30.832250Z"
    }
   },
   "source": [
    "# Create a table representing number of missing values of each feature, sort them descendingly\n",
    "missing_values = X.isnull().sum().sort_values(ascending=False)\n",
    "missing_values = missing_values[missing_values > 0]\n",
    "missing_values = pd.DataFrame(missing_values, columns=[\"Number of Missing Values\"])\n",
    "missing_values"
   ],
   "outputs": [
    {
     "data": {
      "text/plain": [
       "            Number of Missing Values\n",
       "KFK_BLOOD                       1696\n",
       "IBS_NASL                        1628\n",
       "S_AD_KBRIG                      1076\n",
       "D_AD_KBRIG                      1076\n",
       "NOT_NA_KB                        686\n",
       "...                              ...\n",
       "zab_leg_02                         7\n",
       "zab_leg_03                         7\n",
       "zab_leg_04                         7\n",
       "INF_ANAM                           4\n",
       "IM_PG_P                            1\n",
       "\n",
       "[101 rows x 1 columns]"
      ],
      "text/html": [
       "<div>\n",
       "<style scoped>\n",
       "    .dataframe tbody tr th:only-of-type {\n",
       "        vertical-align: middle;\n",
       "    }\n",
       "\n",
       "    .dataframe tbody tr th {\n",
       "        vertical-align: top;\n",
       "    }\n",
       "\n",
       "    .dataframe thead th {\n",
       "        text-align: right;\n",
       "    }\n",
       "</style>\n",
       "<table border=\"1\" class=\"dataframe\">\n",
       "  <thead>\n",
       "    <tr style=\"text-align: right;\">\n",
       "      <th></th>\n",
       "      <th>Number of Missing Values</th>\n",
       "    </tr>\n",
       "  </thead>\n",
       "  <tbody>\n",
       "    <tr>\n",
       "      <th>KFK_BLOOD</th>\n",
       "      <td>1696</td>\n",
       "    </tr>\n",
       "    <tr>\n",
       "      <th>IBS_NASL</th>\n",
       "      <td>1628</td>\n",
       "    </tr>\n",
       "    <tr>\n",
       "      <th>S_AD_KBRIG</th>\n",
       "      <td>1076</td>\n",
       "    </tr>\n",
       "    <tr>\n",
       "      <th>D_AD_KBRIG</th>\n",
       "      <td>1076</td>\n",
       "    </tr>\n",
       "    <tr>\n",
       "      <th>NOT_NA_KB</th>\n",
       "      <td>686</td>\n",
       "    </tr>\n",
       "    <tr>\n",
       "      <th>...</th>\n",
       "      <td>...</td>\n",
       "    </tr>\n",
       "    <tr>\n",
       "      <th>zab_leg_02</th>\n",
       "      <td>7</td>\n",
       "    </tr>\n",
       "    <tr>\n",
       "      <th>zab_leg_03</th>\n",
       "      <td>7</td>\n",
       "    </tr>\n",
       "    <tr>\n",
       "      <th>zab_leg_04</th>\n",
       "      <td>7</td>\n",
       "    </tr>\n",
       "    <tr>\n",
       "      <th>INF_ANAM</th>\n",
       "      <td>4</td>\n",
       "    </tr>\n",
       "    <tr>\n",
       "      <th>IM_PG_P</th>\n",
       "      <td>1</td>\n",
       "    </tr>\n",
       "  </tbody>\n",
       "</table>\n",
       "<p>101 rows × 1 columns</p>\n",
       "</div>"
      ]
     },
     "execution_count": 203,
     "metadata": {},
     "output_type": "execute_result"
    }
   ],
   "execution_count": 203
  },
  {
   "cell_type": "markdown",
   "id": "786074d78fd74c46",
   "metadata": {
    "id": "786074d78fd74c46"
   },
   "source": [
    "### Data Information of Feature"
   ]
  },
  {
   "cell_type": "code",
   "id": "649fb07dc46f4195",
   "metadata": {
    "colab": {
     "base_uri": "https://localhost:8080/",
     "height": 350
    },
    "id": "649fb07dc46f4195",
    "outputId": "9e6da043-1657-43b1-d304-424d64c21dcf",
    "ExecuteTime": {
     "end_time": "2024-06-02T02:49:31.539779Z",
     "start_time": "2024-06-02T02:49:31.316298Z"
    }
   },
   "source": [
    "X.describe()"
   ],
   "outputs": [
    {
     "data": {
      "text/plain": [
       "               AGE          SEX     INF_ANAM    STENOK_AN    FK_STENOK  \\\n",
       "count  1692.000000  1700.000000  1696.000000  1594.000000  1627.000000   \n",
       "mean     61.856974     0.626471     0.554835     2.316186     1.205286   \n",
       "std      11.259936     0.483883     0.836801     2.440586     1.040814   \n",
       "min      26.000000     0.000000     0.000000     0.000000     0.000000   \n",
       "25%      54.000000     0.000000     0.000000     0.000000     0.000000   \n",
       "50%      63.000000     1.000000     0.000000     1.000000     2.000000   \n",
       "75%      70.000000     1.000000     1.000000     5.000000     2.000000   \n",
       "max      92.000000     1.000000     3.000000     6.000000     4.000000   \n",
       "\n",
       "          IBS_POST  IBS_NASL           GB   SIM_GIPERT      DLIT_AG  ...  \\\n",
       "count  1649.000000  72.00000  1691.000000  1692.000000  1452.000000  ...   \n",
       "mean      1.160703   0.37500     1.393258     0.033688     3.340220  ...   \n",
       "std       0.801400   0.48752     1.088803     0.180478     3.098646  ...   \n",
       "min       0.000000   0.00000     0.000000     0.000000     0.000000  ...   \n",
       "25%       0.000000   0.00000     0.000000     0.000000     0.000000  ...   \n",
       "50%       1.000000   0.00000     2.000000     0.000000     3.000000  ...   \n",
       "75%       2.000000   1.00000     2.000000     0.000000     7.000000  ...   \n",
       "max       2.000000   1.00000     3.000000     1.000000     7.000000  ...   \n",
       "\n",
       "         NOT_NA_KB       LID_KB       NITR_S      LID_S_n   B_BLOK_S_n  \\\n",
       "count  1014.000000  1023.000000  1691.000000  1690.000000  1689.000000   \n",
       "mean      0.691321     0.387097     0.115316     0.283432     0.127294   \n",
       "std       0.462176     0.487324     0.319498     0.450798     0.333401   \n",
       "min       0.000000     0.000000     0.000000     0.000000     0.000000   \n",
       "25%       0.000000     0.000000     0.000000     0.000000     0.000000   \n",
       "50%       1.000000     0.000000     0.000000     0.000000     0.000000   \n",
       "75%       1.000000     1.000000     0.000000     1.000000     0.000000   \n",
       "max       1.000000     1.000000     1.000000     1.000000     1.000000   \n",
       "\n",
       "        ANT_CA_S_n    GEPAR_S_n      ASP_S_n     TIKL_S_n    TRENT_S_n  \n",
       "count  1687.000000  1683.000000  1683.000000  1684.000000  1684.000000  \n",
       "mean      0.666864     0.714795     0.743910     0.017815     0.202494  \n",
       "std       0.471474     0.451646     0.436602     0.132317     0.401978  \n",
       "min       0.000000     0.000000     0.000000     0.000000     0.000000  \n",
       "25%       0.000000     0.000000     0.000000     0.000000     0.000000  \n",
       "50%       1.000000     1.000000     1.000000     0.000000     0.000000  \n",
       "75%       1.000000     1.000000     1.000000     0.000000     0.000000  \n",
       "max       1.000000     1.000000     1.000000     1.000000     1.000000  \n",
       "\n",
       "[8 rows x 102 columns]"
      ],
      "text/html": [
       "<div>\n",
       "<style scoped>\n",
       "    .dataframe tbody tr th:only-of-type {\n",
       "        vertical-align: middle;\n",
       "    }\n",
       "\n",
       "    .dataframe tbody tr th {\n",
       "        vertical-align: top;\n",
       "    }\n",
       "\n",
       "    .dataframe thead th {\n",
       "        text-align: right;\n",
       "    }\n",
       "</style>\n",
       "<table border=\"1\" class=\"dataframe\">\n",
       "  <thead>\n",
       "    <tr style=\"text-align: right;\">\n",
       "      <th></th>\n",
       "      <th>AGE</th>\n",
       "      <th>SEX</th>\n",
       "      <th>INF_ANAM</th>\n",
       "      <th>STENOK_AN</th>\n",
       "      <th>FK_STENOK</th>\n",
       "      <th>IBS_POST</th>\n",
       "      <th>IBS_NASL</th>\n",
       "      <th>GB</th>\n",
       "      <th>SIM_GIPERT</th>\n",
       "      <th>DLIT_AG</th>\n",
       "      <th>...</th>\n",
       "      <th>NOT_NA_KB</th>\n",
       "      <th>LID_KB</th>\n",
       "      <th>NITR_S</th>\n",
       "      <th>LID_S_n</th>\n",
       "      <th>B_BLOK_S_n</th>\n",
       "      <th>ANT_CA_S_n</th>\n",
       "      <th>GEPAR_S_n</th>\n",
       "      <th>ASP_S_n</th>\n",
       "      <th>TIKL_S_n</th>\n",
       "      <th>TRENT_S_n</th>\n",
       "    </tr>\n",
       "  </thead>\n",
       "  <tbody>\n",
       "    <tr>\n",
       "      <th>count</th>\n",
       "      <td>1692.000000</td>\n",
       "      <td>1700.000000</td>\n",
       "      <td>1696.000000</td>\n",
       "      <td>1594.000000</td>\n",
       "      <td>1627.000000</td>\n",
       "      <td>1649.000000</td>\n",
       "      <td>72.00000</td>\n",
       "      <td>1691.000000</td>\n",
       "      <td>1692.000000</td>\n",
       "      <td>1452.000000</td>\n",
       "      <td>...</td>\n",
       "      <td>1014.000000</td>\n",
       "      <td>1023.000000</td>\n",
       "      <td>1691.000000</td>\n",
       "      <td>1690.000000</td>\n",
       "      <td>1689.000000</td>\n",
       "      <td>1687.000000</td>\n",
       "      <td>1683.000000</td>\n",
       "      <td>1683.000000</td>\n",
       "      <td>1684.000000</td>\n",
       "      <td>1684.000000</td>\n",
       "    </tr>\n",
       "    <tr>\n",
       "      <th>mean</th>\n",
       "      <td>61.856974</td>\n",
       "      <td>0.626471</td>\n",
       "      <td>0.554835</td>\n",
       "      <td>2.316186</td>\n",
       "      <td>1.205286</td>\n",
       "      <td>1.160703</td>\n",
       "      <td>0.37500</td>\n",
       "      <td>1.393258</td>\n",
       "      <td>0.033688</td>\n",
       "      <td>3.340220</td>\n",
       "      <td>...</td>\n",
       "      <td>0.691321</td>\n",
       "      <td>0.387097</td>\n",
       "      <td>0.115316</td>\n",
       "      <td>0.283432</td>\n",
       "      <td>0.127294</td>\n",
       "      <td>0.666864</td>\n",
       "      <td>0.714795</td>\n",
       "      <td>0.743910</td>\n",
       "      <td>0.017815</td>\n",
       "      <td>0.202494</td>\n",
       "    </tr>\n",
       "    <tr>\n",
       "      <th>std</th>\n",
       "      <td>11.259936</td>\n",
       "      <td>0.483883</td>\n",
       "      <td>0.836801</td>\n",
       "      <td>2.440586</td>\n",
       "      <td>1.040814</td>\n",
       "      <td>0.801400</td>\n",
       "      <td>0.48752</td>\n",
       "      <td>1.088803</td>\n",
       "      <td>0.180478</td>\n",
       "      <td>3.098646</td>\n",
       "      <td>...</td>\n",
       "      <td>0.462176</td>\n",
       "      <td>0.487324</td>\n",
       "      <td>0.319498</td>\n",
       "      <td>0.450798</td>\n",
       "      <td>0.333401</td>\n",
       "      <td>0.471474</td>\n",
       "      <td>0.451646</td>\n",
       "      <td>0.436602</td>\n",
       "      <td>0.132317</td>\n",
       "      <td>0.401978</td>\n",
       "    </tr>\n",
       "    <tr>\n",
       "      <th>min</th>\n",
       "      <td>26.000000</td>\n",
       "      <td>0.000000</td>\n",
       "      <td>0.000000</td>\n",
       "      <td>0.000000</td>\n",
       "      <td>0.000000</td>\n",
       "      <td>0.000000</td>\n",
       "      <td>0.00000</td>\n",
       "      <td>0.000000</td>\n",
       "      <td>0.000000</td>\n",
       "      <td>0.000000</td>\n",
       "      <td>...</td>\n",
       "      <td>0.000000</td>\n",
       "      <td>0.000000</td>\n",
       "      <td>0.000000</td>\n",
       "      <td>0.000000</td>\n",
       "      <td>0.000000</td>\n",
       "      <td>0.000000</td>\n",
       "      <td>0.000000</td>\n",
       "      <td>0.000000</td>\n",
       "      <td>0.000000</td>\n",
       "      <td>0.000000</td>\n",
       "    </tr>\n",
       "    <tr>\n",
       "      <th>25%</th>\n",
       "      <td>54.000000</td>\n",
       "      <td>0.000000</td>\n",
       "      <td>0.000000</td>\n",
       "      <td>0.000000</td>\n",
       "      <td>0.000000</td>\n",
       "      <td>0.000000</td>\n",
       "      <td>0.00000</td>\n",
       "      <td>0.000000</td>\n",
       "      <td>0.000000</td>\n",
       "      <td>0.000000</td>\n",
       "      <td>...</td>\n",
       "      <td>0.000000</td>\n",
       "      <td>0.000000</td>\n",
       "      <td>0.000000</td>\n",
       "      <td>0.000000</td>\n",
       "      <td>0.000000</td>\n",
       "      <td>0.000000</td>\n",
       "      <td>0.000000</td>\n",
       "      <td>0.000000</td>\n",
       "      <td>0.000000</td>\n",
       "      <td>0.000000</td>\n",
       "    </tr>\n",
       "    <tr>\n",
       "      <th>50%</th>\n",
       "      <td>63.000000</td>\n",
       "      <td>1.000000</td>\n",
       "      <td>0.000000</td>\n",
       "      <td>1.000000</td>\n",
       "      <td>2.000000</td>\n",
       "      <td>1.000000</td>\n",
       "      <td>0.00000</td>\n",
       "      <td>2.000000</td>\n",
       "      <td>0.000000</td>\n",
       "      <td>3.000000</td>\n",
       "      <td>...</td>\n",
       "      <td>1.000000</td>\n",
       "      <td>0.000000</td>\n",
       "      <td>0.000000</td>\n",
       "      <td>0.000000</td>\n",
       "      <td>0.000000</td>\n",
       "      <td>1.000000</td>\n",
       "      <td>1.000000</td>\n",
       "      <td>1.000000</td>\n",
       "      <td>0.000000</td>\n",
       "      <td>0.000000</td>\n",
       "    </tr>\n",
       "    <tr>\n",
       "      <th>75%</th>\n",
       "      <td>70.000000</td>\n",
       "      <td>1.000000</td>\n",
       "      <td>1.000000</td>\n",
       "      <td>5.000000</td>\n",
       "      <td>2.000000</td>\n",
       "      <td>2.000000</td>\n",
       "      <td>1.00000</td>\n",
       "      <td>2.000000</td>\n",
       "      <td>0.000000</td>\n",
       "      <td>7.000000</td>\n",
       "      <td>...</td>\n",
       "      <td>1.000000</td>\n",
       "      <td>1.000000</td>\n",
       "      <td>0.000000</td>\n",
       "      <td>1.000000</td>\n",
       "      <td>0.000000</td>\n",
       "      <td>1.000000</td>\n",
       "      <td>1.000000</td>\n",
       "      <td>1.000000</td>\n",
       "      <td>0.000000</td>\n",
       "      <td>0.000000</td>\n",
       "    </tr>\n",
       "    <tr>\n",
       "      <th>max</th>\n",
       "      <td>92.000000</td>\n",
       "      <td>1.000000</td>\n",
       "      <td>3.000000</td>\n",
       "      <td>6.000000</td>\n",
       "      <td>4.000000</td>\n",
       "      <td>2.000000</td>\n",
       "      <td>1.00000</td>\n",
       "      <td>3.000000</td>\n",
       "      <td>1.000000</td>\n",
       "      <td>7.000000</td>\n",
       "      <td>...</td>\n",
       "      <td>1.000000</td>\n",
       "      <td>1.000000</td>\n",
       "      <td>1.000000</td>\n",
       "      <td>1.000000</td>\n",
       "      <td>1.000000</td>\n",
       "      <td>1.000000</td>\n",
       "      <td>1.000000</td>\n",
       "      <td>1.000000</td>\n",
       "      <td>1.000000</td>\n",
       "      <td>1.000000</td>\n",
       "    </tr>\n",
       "  </tbody>\n",
       "</table>\n",
       "<p>8 rows × 102 columns</p>\n",
       "</div>"
      ]
     },
     "execution_count": 204,
     "metadata": {},
     "output_type": "execute_result"
    }
   ],
   "execution_count": 204
  },
  {
   "cell_type": "code",
   "id": "58460f4aba80d1a9",
   "metadata": {
    "id": "58460f4aba80d1a9",
    "ExecuteTime": {
     "end_time": "2024-06-02T02:49:31.806278Z",
     "start_time": "2024-06-02T02:49:31.798801Z"
    }
   },
   "source": [
    "continuous_features = [\"AGE\", \"S_AD_ORIT\", \"D_AD_ORIT\", \"K_BLOOD\", \"NA_BLOOD\", \"ALT_BLOOD\", \"AST_BLOOD\", \"L_BLOOD\", \"ROE\"]\n",
    "binary_categorical_features = [x for x in X.columns if x not in continuous_features]"
   ],
   "outputs": [],
   "execution_count": 205
  },
  {
   "cell_type": "code",
   "id": "fe366ae73d2bde67",
   "metadata": {
    "id": "fe366ae73d2bde67",
    "ExecuteTime": {
     "end_time": "2024-06-02T02:49:32.522956Z",
     "start_time": "2024-06-02T02:49:32.497480Z"
    }
   },
   "source": [
    "binary_features = []\n",
    "for col in binary_categorical_features:\n",
    "    if  X[col].max() == 1:\n",
    "        binary_features.append(col)"
   ],
   "outputs": [],
   "execution_count": 206
  },
  {
   "cell_type": "code",
   "id": "a56df190e54879be",
   "metadata": {
    "id": "a56df190e54879be",
    "ExecuteTime": {
     "end_time": "2024-06-02T02:49:32.968479Z",
     "start_time": "2024-06-02T02:49:32.962006Z"
    }
   },
   "source": [
    "categorical_features = [x for x in binary_categorical_features if x not in binary_features]"
   ],
   "outputs": [],
   "execution_count": 207
  },
  {
   "cell_type": "markdown",
   "id": "f1ee12f382218985",
   "metadata": {
    "id": "f1ee12f382218985"
   },
   "source": [
    "## 3. Preprocessing"
   ]
  },
  {
   "cell_type": "code",
   "id": "904d86dc08062fa7",
   "metadata": {
    "colab": {
     "base_uri": "https://localhost:8080/",
     "height": 441
    },
    "id": "904d86dc08062fa7",
    "outputId": "8652747f-bbf9-4304-9d3e-b8da5c4e14cc",
    "ExecuteTime": {
     "end_time": "2024-06-02T02:49:33.375870Z",
     "start_time": "2024-06-02T02:49:33.300958Z"
    }
   },
   "source": [
    "import copy\n",
    "unprocessed_data = X_train\n",
    "%store unprocessed_data\n",
    "unprocessed_data[0]"
   ],
   "outputs": [
    {
     "name": "stdout",
     "output_type": "stream",
     "text": [
      "Stored 'unprocessed_data' (list)\n"
     ]
    },
    {
     "data": {
      "text/plain": [
       "       AGE  SEX  INF_ANAM  STENOK_AN  FK_STENOK  IBS_POST  IBS_NASL   GB  \\\n",
       "1458  66.0    1       0.0        6.0        2.0       2.0       NaN  2.0   \n",
       "497   56.0    1       1.0        0.0        0.0       0.0       NaN  2.0   \n",
       "793   64.0    1       0.0        NaN        2.0       1.0       NaN  2.0   \n",
       "595   70.0    1       0.0        6.0        2.0       1.0       0.0  0.0   \n",
       "1004  64.0    0       0.0        0.0        0.0       2.0       0.0  2.0   \n",
       "...    ...  ...       ...        ...        ...       ...       ...  ...   \n",
       "1261  74.0    0       0.0        NaN        2.0       1.0       NaN  0.0   \n",
       "1311  63.0    1       0.0        0.0        0.0       0.0       NaN  0.0   \n",
       "317   63.0    1       0.0        6.0        2.0       1.0       NaN  0.0   \n",
       "24    67.0    1       1.0        6.0        2.0       1.0       NaN  0.0   \n",
       "506   62.0    1       0.0        0.0        0.0       0.0       NaN  3.0   \n",
       "\n",
       "      SIM_GIPERT  DLIT_AG  ...  NOT_NA_KB  LID_KB  NITR_S  LID_S_n  \\\n",
       "1458         0.0      7.0  ...        0.0     0.0     1.0      0.0   \n",
       "497          0.0      NaN  ...        0.0     1.0     0.0      0.0   \n",
       "793          0.0      NaN  ...        NaN     NaN     0.0      0.0   \n",
       "595          0.0      0.0  ...        NaN     NaN     0.0      0.0   \n",
       "1004         0.0      1.0  ...        0.0     0.0     0.0      0.0   \n",
       "...          ...      ...  ...        ...     ...     ...      ...   \n",
       "1261         0.0      0.0  ...        NaN     NaN     0.0      0.0   \n",
       "1311         0.0      0.0  ...        1.0     1.0     0.0      0.0   \n",
       "317          0.0      0.0  ...        1.0     1.0     0.0      0.0   \n",
       "24           0.0      0.0  ...        0.0     0.0     0.0      0.0   \n",
       "506          0.0      7.0  ...        NaN     NaN     0.0      0.0   \n",
       "\n",
       "      B_BLOK_S_n  ANT_CA_S_n  GEPAR_S_n  ASP_S_n  TIKL_S_n  TRENT_S_n  \n",
       "1458         0.0         1.0        1.0      0.0       0.0        1.0  \n",
       "497          0.0         0.0        1.0      1.0       0.0        0.0  \n",
       "793          0.0         0.0        1.0      1.0       0.0        1.0  \n",
       "595          0.0         1.0        1.0      0.0       0.0        1.0  \n",
       "1004         0.0         0.0        1.0      0.0       0.0        0.0  \n",
       "...          ...         ...        ...      ...       ...        ...  \n",
       "1261         0.0         0.0        0.0      0.0       0.0        1.0  \n",
       "1311         0.0         0.0        1.0      1.0       0.0        0.0  \n",
       "317          0.0         0.0        1.0      1.0       0.0        1.0  \n",
       "24           0.0         1.0        0.0      1.0       0.0        0.0  \n",
       "506          0.0         1.0        0.0      0.0       0.0        1.0  \n",
       "\n",
       "[1190 rows x 102 columns]"
      ],
      "text/html": [
       "<div>\n",
       "<style scoped>\n",
       "    .dataframe tbody tr th:only-of-type {\n",
       "        vertical-align: middle;\n",
       "    }\n",
       "\n",
       "    .dataframe tbody tr th {\n",
       "        vertical-align: top;\n",
       "    }\n",
       "\n",
       "    .dataframe thead th {\n",
       "        text-align: right;\n",
       "    }\n",
       "</style>\n",
       "<table border=\"1\" class=\"dataframe\">\n",
       "  <thead>\n",
       "    <tr style=\"text-align: right;\">\n",
       "      <th></th>\n",
       "      <th>AGE</th>\n",
       "      <th>SEX</th>\n",
       "      <th>INF_ANAM</th>\n",
       "      <th>STENOK_AN</th>\n",
       "      <th>FK_STENOK</th>\n",
       "      <th>IBS_POST</th>\n",
       "      <th>IBS_NASL</th>\n",
       "      <th>GB</th>\n",
       "      <th>SIM_GIPERT</th>\n",
       "      <th>DLIT_AG</th>\n",
       "      <th>...</th>\n",
       "      <th>NOT_NA_KB</th>\n",
       "      <th>LID_KB</th>\n",
       "      <th>NITR_S</th>\n",
       "      <th>LID_S_n</th>\n",
       "      <th>B_BLOK_S_n</th>\n",
       "      <th>ANT_CA_S_n</th>\n",
       "      <th>GEPAR_S_n</th>\n",
       "      <th>ASP_S_n</th>\n",
       "      <th>TIKL_S_n</th>\n",
       "      <th>TRENT_S_n</th>\n",
       "    </tr>\n",
       "  </thead>\n",
       "  <tbody>\n",
       "    <tr>\n",
       "      <th>1458</th>\n",
       "      <td>66.0</td>\n",
       "      <td>1</td>\n",
       "      <td>0.0</td>\n",
       "      <td>6.0</td>\n",
       "      <td>2.0</td>\n",
       "      <td>2.0</td>\n",
       "      <td>NaN</td>\n",
       "      <td>2.0</td>\n",
       "      <td>0.0</td>\n",
       "      <td>7.0</td>\n",
       "      <td>...</td>\n",
       "      <td>0.0</td>\n",
       "      <td>0.0</td>\n",
       "      <td>1.0</td>\n",
       "      <td>0.0</td>\n",
       "      <td>0.0</td>\n",
       "      <td>1.0</td>\n",
       "      <td>1.0</td>\n",
       "      <td>0.0</td>\n",
       "      <td>0.0</td>\n",
       "      <td>1.0</td>\n",
       "    </tr>\n",
       "    <tr>\n",
       "      <th>497</th>\n",
       "      <td>56.0</td>\n",
       "      <td>1</td>\n",
       "      <td>1.0</td>\n",
       "      <td>0.0</td>\n",
       "      <td>0.0</td>\n",
       "      <td>0.0</td>\n",
       "      <td>NaN</td>\n",
       "      <td>2.0</td>\n",
       "      <td>0.0</td>\n",
       "      <td>NaN</td>\n",
       "      <td>...</td>\n",
       "      <td>0.0</td>\n",
       "      <td>1.0</td>\n",
       "      <td>0.0</td>\n",
       "      <td>0.0</td>\n",
       "      <td>0.0</td>\n",
       "      <td>0.0</td>\n",
       "      <td>1.0</td>\n",
       "      <td>1.0</td>\n",
       "      <td>0.0</td>\n",
       "      <td>0.0</td>\n",
       "    </tr>\n",
       "    <tr>\n",
       "      <th>793</th>\n",
       "      <td>64.0</td>\n",
       "      <td>1</td>\n",
       "      <td>0.0</td>\n",
       "      <td>NaN</td>\n",
       "      <td>2.0</td>\n",
       "      <td>1.0</td>\n",
       "      <td>NaN</td>\n",
       "      <td>2.0</td>\n",
       "      <td>0.0</td>\n",
       "      <td>NaN</td>\n",
       "      <td>...</td>\n",
       "      <td>NaN</td>\n",
       "      <td>NaN</td>\n",
       "      <td>0.0</td>\n",
       "      <td>0.0</td>\n",
       "      <td>0.0</td>\n",
       "      <td>0.0</td>\n",
       "      <td>1.0</td>\n",
       "      <td>1.0</td>\n",
       "      <td>0.0</td>\n",
       "      <td>1.0</td>\n",
       "    </tr>\n",
       "    <tr>\n",
       "      <th>595</th>\n",
       "      <td>70.0</td>\n",
       "      <td>1</td>\n",
       "      <td>0.0</td>\n",
       "      <td>6.0</td>\n",
       "      <td>2.0</td>\n",
       "      <td>1.0</td>\n",
       "      <td>0.0</td>\n",
       "      <td>0.0</td>\n",
       "      <td>0.0</td>\n",
       "      <td>0.0</td>\n",
       "      <td>...</td>\n",
       "      <td>NaN</td>\n",
       "      <td>NaN</td>\n",
       "      <td>0.0</td>\n",
       "      <td>0.0</td>\n",
       "      <td>0.0</td>\n",
       "      <td>1.0</td>\n",
       "      <td>1.0</td>\n",
       "      <td>0.0</td>\n",
       "      <td>0.0</td>\n",
       "      <td>1.0</td>\n",
       "    </tr>\n",
       "    <tr>\n",
       "      <th>1004</th>\n",
       "      <td>64.0</td>\n",
       "      <td>0</td>\n",
       "      <td>0.0</td>\n",
       "      <td>0.0</td>\n",
       "      <td>0.0</td>\n",
       "      <td>2.0</td>\n",
       "      <td>0.0</td>\n",
       "      <td>2.0</td>\n",
       "      <td>0.0</td>\n",
       "      <td>1.0</td>\n",
       "      <td>...</td>\n",
       "      <td>0.0</td>\n",
       "      <td>0.0</td>\n",
       "      <td>0.0</td>\n",
       "      <td>0.0</td>\n",
       "      <td>0.0</td>\n",
       "      <td>0.0</td>\n",
       "      <td>1.0</td>\n",
       "      <td>0.0</td>\n",
       "      <td>0.0</td>\n",
       "      <td>0.0</td>\n",
       "    </tr>\n",
       "    <tr>\n",
       "      <th>...</th>\n",
       "      <td>...</td>\n",
       "      <td>...</td>\n",
       "      <td>...</td>\n",
       "      <td>...</td>\n",
       "      <td>...</td>\n",
       "      <td>...</td>\n",
       "      <td>...</td>\n",
       "      <td>...</td>\n",
       "      <td>...</td>\n",
       "      <td>...</td>\n",
       "      <td>...</td>\n",
       "      <td>...</td>\n",
       "      <td>...</td>\n",
       "      <td>...</td>\n",
       "      <td>...</td>\n",
       "      <td>...</td>\n",
       "      <td>...</td>\n",
       "      <td>...</td>\n",
       "      <td>...</td>\n",
       "      <td>...</td>\n",
       "      <td>...</td>\n",
       "    </tr>\n",
       "    <tr>\n",
       "      <th>1261</th>\n",
       "      <td>74.0</td>\n",
       "      <td>0</td>\n",
       "      <td>0.0</td>\n",
       "      <td>NaN</td>\n",
       "      <td>2.0</td>\n",
       "      <td>1.0</td>\n",
       "      <td>NaN</td>\n",
       "      <td>0.0</td>\n",
       "      <td>0.0</td>\n",
       "      <td>0.0</td>\n",
       "      <td>...</td>\n",
       "      <td>NaN</td>\n",
       "      <td>NaN</td>\n",
       "      <td>0.0</td>\n",
       "      <td>0.0</td>\n",
       "      <td>0.0</td>\n",
       "      <td>0.0</td>\n",
       "      <td>0.0</td>\n",
       "      <td>0.0</td>\n",
       "      <td>0.0</td>\n",
       "      <td>1.0</td>\n",
       "    </tr>\n",
       "    <tr>\n",
       "      <th>1311</th>\n",
       "      <td>63.0</td>\n",
       "      <td>1</td>\n",
       "      <td>0.0</td>\n",
       "      <td>0.0</td>\n",
       "      <td>0.0</td>\n",
       "      <td>0.0</td>\n",
       "      <td>NaN</td>\n",
       "      <td>0.0</td>\n",
       "      <td>0.0</td>\n",
       "      <td>0.0</td>\n",
       "      <td>...</td>\n",
       "      <td>1.0</td>\n",
       "      <td>1.0</td>\n",
       "      <td>0.0</td>\n",
       "      <td>0.0</td>\n",
       "      <td>0.0</td>\n",
       "      <td>0.0</td>\n",
       "      <td>1.0</td>\n",
       "      <td>1.0</td>\n",
       "      <td>0.0</td>\n",
       "      <td>0.0</td>\n",
       "    </tr>\n",
       "    <tr>\n",
       "      <th>317</th>\n",
       "      <td>63.0</td>\n",
       "      <td>1</td>\n",
       "      <td>0.0</td>\n",
       "      <td>6.0</td>\n",
       "      <td>2.0</td>\n",
       "      <td>1.0</td>\n",
       "      <td>NaN</td>\n",
       "      <td>0.0</td>\n",
       "      <td>0.0</td>\n",
       "      <td>0.0</td>\n",
       "      <td>...</td>\n",
       "      <td>1.0</td>\n",
       "      <td>1.0</td>\n",
       "      <td>0.0</td>\n",
       "      <td>0.0</td>\n",
       "      <td>0.0</td>\n",
       "      <td>0.0</td>\n",
       "      <td>1.0</td>\n",
       "      <td>1.0</td>\n",
       "      <td>0.0</td>\n",
       "      <td>1.0</td>\n",
       "    </tr>\n",
       "    <tr>\n",
       "      <th>24</th>\n",
       "      <td>67.0</td>\n",
       "      <td>1</td>\n",
       "      <td>1.0</td>\n",
       "      <td>6.0</td>\n",
       "      <td>2.0</td>\n",
       "      <td>1.0</td>\n",
       "      <td>NaN</td>\n",
       "      <td>0.0</td>\n",
       "      <td>0.0</td>\n",
       "      <td>0.0</td>\n",
       "      <td>...</td>\n",
       "      <td>0.0</td>\n",
       "      <td>0.0</td>\n",
       "      <td>0.0</td>\n",
       "      <td>0.0</td>\n",
       "      <td>0.0</td>\n",
       "      <td>1.0</td>\n",
       "      <td>0.0</td>\n",
       "      <td>1.0</td>\n",
       "      <td>0.0</td>\n",
       "      <td>0.0</td>\n",
       "    </tr>\n",
       "    <tr>\n",
       "      <th>506</th>\n",
       "      <td>62.0</td>\n",
       "      <td>1</td>\n",
       "      <td>0.0</td>\n",
       "      <td>0.0</td>\n",
       "      <td>0.0</td>\n",
       "      <td>0.0</td>\n",
       "      <td>NaN</td>\n",
       "      <td>3.0</td>\n",
       "      <td>0.0</td>\n",
       "      <td>7.0</td>\n",
       "      <td>...</td>\n",
       "      <td>NaN</td>\n",
       "      <td>NaN</td>\n",
       "      <td>0.0</td>\n",
       "      <td>0.0</td>\n",
       "      <td>0.0</td>\n",
       "      <td>1.0</td>\n",
       "      <td>0.0</td>\n",
       "      <td>0.0</td>\n",
       "      <td>0.0</td>\n",
       "      <td>1.0</td>\n",
       "    </tr>\n",
       "  </tbody>\n",
       "</table>\n",
       "<p>1190 rows × 102 columns</p>\n",
       "</div>"
      ]
     },
     "execution_count": 208,
     "metadata": {},
     "output_type": "execute_result"
    }
   ],
   "execution_count": 208
  },
  {
   "cell_type": "code",
   "id": "9498ca38473f563f",
   "metadata": {
    "id": "9498ca38473f563f",
    "ExecuteTime": {
     "end_time": "2024-06-02T02:49:33.747537Z",
     "start_time": "2024-06-02T02:49:33.733279Z"
    }
   },
   "source": [
    "from sklearn.base import BaseEstimator, TransformerMixin\n",
    "import pandas as pd\n",
    "\n",
    "class ColumnDropper(BaseEstimator, TransformerMixin):\n",
    "    def __init__(self, threshold):\n",
    "        self.columns_to_drop = None\n",
    "        self.threshold = threshold\n",
    "\n",
    "    def fit(self, X, y=None):\n",
    "        X = pd.DataFrame(X)\n",
    "        self.columns_to_drop = X.columns[X.isnull().sum() > self.threshold]\n",
    "        return self\n",
    "\n",
    "    def transform(self, X):\n",
    "        # Ensure the input is a DataFrame\n",
    "        X = pd.DataFrame(X)\n",
    "        global X_keep\n",
    "        X_keep = list(X.columns[~X.columns.isin(self.columns_to_drop)])\n",
    "        return X.drop(columns=self.columns_to_drop)\n",
    "\n",
    "\n",
    "class RowDropper(BaseEstimator, TransformerMixin):\n",
    "    def __init__(self, threshold):\n",
    "        self.rows_to_drop = None\n",
    "        self.threshold = threshold\n",
    "\n",
    "    def fit(self, X, y=None):\n",
    "        self.rows_to_drop = X.index[X.isnull().sum(axis=1) > self.threshold]\n",
    "        return self\n",
    "\n",
    "    def transform(self, X):\n",
    "        # Ensure the input is a DataFrame\n",
    "        X = pd.DataFrame(X)\n",
    "        return X.drop(index=self.rows_to_drop)\n"
   ],
   "outputs": [],
   "execution_count": 209
  },
  {
   "cell_type": "code",
   "id": "db10f91164257ebd",
   "metadata": {
    "id": "db10f91164257ebd",
    "ExecuteTime": {
     "end_time": "2024-06-02T02:49:33.893285Z",
     "start_time": "2024-06-02T02:49:33.881547Z"
    }
   },
   "source": [
    "# Define outliers handler class\n",
    "class OutliersHandler(BaseEstimator, TransformerMixin):\n",
    "    def __init__(self, coefficient):\n",
    "        self.coefficient = coefficient\n",
    "        self.lower_bounds = None\n",
    "        self.upper_bounds = None\n",
    "\n",
    "    def fit(self, X, y=None):\n",
    "        X = pd.DataFrame(X)\n",
    "        q1 = X.quantile(0.25)\n",
    "        q3 = X.quantile(0.75)\n",
    "        iqr = q3 - q1\n",
    "        self.lower_bounds = q1 - iqr * self.coefficient\n",
    "        self.upper_bounds = q3 + iqr * self.coefficient\n",
    "        return self\n",
    "\n",
    "    def transform(self, X):\n",
    "        # Ensure the input is a DataFrame\n",
    "        X = pd.DataFrame(X)\n",
    "        for feature in X.columns:\n",
    "            if feature in continuous_features: # if feature is continuous, because clipping in the other one will probably result in missing information\n",
    "                X[feature] = X[feature].clip(self.lower_bounds[feature], self.upper_bounds[feature])\n",
    "        return X"
   ],
   "outputs": [],
   "execution_count": 210
  },
  {
   "cell_type": "code",
   "id": "1bf5b84d60a3601a",
   "metadata": {
    "id": "1bf5b84d60a3601a",
    "ExecuteTime": {
     "end_time": "2024-06-02T02:49:34.080791Z",
     "start_time": "2024-06-02T02:49:34.073690Z"
    }
   },
   "source": [
    "# def impute_by_type(X, continuous_features=None, categorical_features=None, binary_features=None, binary_categorical_features=None):\n",
    "#     \"\"\"Fills missing values based on data type, handling potential errors, works with subsets\"\"\"\n",
    "#     if categorical_features is not None:\n",
    "#         for feature in categorical_features:\n",
    "#             if feature in X.columns:\n",
    "#                 try:\n",
    "#                     X[feature].fillna(X[feature].mode()[0], inplace=True)\n",
    "#                 except KeyError:\n",
    "#                     pass\n",
    "#     if continuous_features is not None:\n",
    "#         for feature in continuous_features:\n",
    "#             if feature in X.columns:\n",
    "#                 try:\n",
    "#                     X[feature].fillna(X[feature].mean(axis=0), inplace=True)\n",
    "#                 except KeyError:\n",
    "#                     pass\n",
    "#     if binary_features is not None:\n",
    "#         for feature in binary_features:\n",
    "#             if feature in X.columns:\n",
    "#                 try:\n",
    "#                     X[feature].fillna(X[feature].mode()[0], inplace=True)\n",
    "#                 except KeyError:\n",
    "#                     pass\n",
    "#     if binary_categorical_features is not None and binary_features is None and categorical_features is None:\n",
    "#         for feature in binary_categorical_features:\n",
    "#             if feature in X.columns:\n",
    "#                 try:\n",
    "#                     X[feature].fillna(X[feature].mode()[0], inplace=True)\n",
    "#                 except KeyError:\n",
    "#                     pass\n",
    "#     return X"
   ],
   "outputs": [],
   "execution_count": 211
  },
  {
   "cell_type": "code",
   "id": "aa6ace2834dca674",
   "metadata": {
    "id": "aa6ace2834dca674",
    "ExecuteTime": {
     "end_time": "2024-06-02T02:49:34.311480Z",
     "start_time": "2024-06-02T02:49:34.298818Z"
    }
   },
   "source": [
    "from sklearn.impute import KNNImputer\n",
    "def impute_by_type(X, continuous_features=None, categorical_features=None, binary_features=None):\n",
    "    \"\"\"Fills missing values based on data type, handling potential errors, works with subsets\"\"\"\n",
    "    if categorical_features is not None:\n",
    "        for feature in categorical_features:\n",
    "            if feature in X.columns:\n",
    "                try:\n",
    "                    X[feature].fillna(X[feature].mode()[0], inplace=True)\n",
    "                except KeyError:\n",
    "                    pass\n",
    "\n",
    "    imputer = KNNImputer(n_neighbors=10)\n",
    "    imputer.fit(X)\n",
    "    X_imputed = pd.DataFrame(imputer.transform(X), columns=X.columns, index=X.index)\n",
    "    if continuous_features is not None:\n",
    "        for feature in continuous_features:\n",
    "            if feature in X.columns:\n",
    "                try:\n",
    "                    temp_df = pd.DataFrame({feature: X_imputed[feature]})\n",
    "                    X.update(temp_df)\n",
    "                    # print(X[feature].isnull().sum(), X_imputed[feature].isnull().sum())\n",
    "                except KeyError:\n",
    "                    pass\n",
    "    if binary_features is not None:\n",
    "        for feature in binary_features:\n",
    "            if feature in X.columns:\n",
    "                try:\n",
    "                    temp_df = pd.DataFrame({feature: X_imputed[feature]})\n",
    "                    X.update(temp_df)\n",
    "                    # print(X[feature].isnull().sum(), X_imputed[feature].isnull().sum())\n",
    "                except KeyError:\n",
    "                    pass\n",
    "    return X"
   ],
   "outputs": [],
   "execution_count": 212
  },
  {
   "cell_type": "code",
   "id": "ce01c981c12b39fc",
   "metadata": {
    "colab": {
     "base_uri": "https://localhost:8080/",
     "height": 441
    },
    "id": "ce01c981c12b39fc",
    "outputId": "20fb7527-cc36-466f-fd9d-3506e9c8e181",
    "ExecuteTime": {
     "end_time": "2024-06-02T02:49:37.992269Z",
     "start_time": "2024-06-02T02:49:34.791141Z"
    }
   },
   "source": [
    "from sklearn.pipeline import Pipeline\n",
    "from sklearn.preprocessing import StandardScaler\n",
    "from sklearn.preprocessing import FunctionTransformer\n",
    "\n",
    "# Define dropper pipeline\n",
    "dropper = Pipeline(steps=[\n",
    "    ('column_dropper', ColumnDropper(threshold=100)),\n",
    "    ('row_dropper', RowDropper(threshold=100))\n",
    "])\n",
    "\n",
    "# Define preprocessing pipeline\n",
    "preprocessing_pipeline = Pipeline(steps=[\n",
    "    ('dropper', dropper),\n",
    "    ('outliers_clipper',OutliersHandler(coefficient=1.5)),\n",
    "    ('imputation', FunctionTransformer(impute_by_type, kw_args={\"continuous_features\":continuous_features, \"binary_features\": binary_features, \"categorical_features\": categorical_features })),  # Fill missing values using mean/mode\n",
    "    ('scaling', StandardScaler())  # Standardize features by removing the mean and scaling to unit variance\n",
    "])\n",
    "\n",
    "# Apply the preprocessing pipeline to each set\n",
    "for i in range(len(y)):\n",
    "    X_train[i] = preprocessing_pipeline.fit_transform(X_train[i])\n",
    "    X_test[i] = preprocessing_pipeline.transform(X_test[i])\n",
    "\n",
    "preprocessed_data = pd.DataFrame(data=X_train[0], columns=X_keep)\n",
    "%store preprocessed_data\n",
    "preprocessed_data"
   ],
   "outputs": [
    {
     "name": "stdout",
     "output_type": "stream",
     "text": [
      "Stored 'preprocessed_data' (DataFrame)\n"
     ]
    },
    {
     "data": {
      "text/plain": [
       "           AGE       SEX  INF_ANAM  STENOK_AN  FK_STENOK  IBS_POST        GB  \\\n",
       "0     0.340208  0.785397 -0.661077   1.595975   0.743926  1.015624  0.564308   \n",
       "1    -0.566373  0.785397  0.560478  -0.888818  -1.203867 -1.491829  0.564308   \n",
       "2     0.158892  0.785397 -0.661077  -0.888818   0.743926 -0.238103  0.564308   \n",
       "3     0.702840  0.785397 -0.661077   1.595975   0.743926 -0.238103 -1.278015   \n",
       "4     0.158892 -1.273242 -0.661077  -0.888818  -1.203867  1.015624  0.564308   \n",
       "...        ...       ...       ...        ...        ...       ...       ...   \n",
       "1185  1.065472 -1.273242 -0.661077  -0.888818   0.743926 -0.238103 -1.278015   \n",
       "1186  0.068233  0.785397 -0.661077  -0.888818  -1.203867 -1.491829 -1.278015   \n",
       "1187  0.068233  0.785397 -0.661077   1.595975   0.743926 -0.238103 -1.278015   \n",
       "1188  0.430866  0.785397  0.560478   1.595975   0.743926 -0.238103 -1.278015   \n",
       "1189 -0.022425  0.785397 -0.661077  -0.888818  -1.203867 -1.491829  1.485470   \n",
       "\n",
       "      SIM_GIPERT     ZSN_A     nr_11  ...   L_BLOOD  TIME_B_S    NITR_S  \\\n",
       "0      -0.193621 -0.278129 -0.172978  ...  1.273901  0.537529  2.652381   \n",
       "1      -0.193621 -0.278129 -0.172978  ... -1.356769  1.253432 -0.378475   \n",
       "2      -0.193621 -0.278129 -0.172978  ...  1.040803 -0.178374 -0.378475   \n",
       "3      -0.193621 -0.278129 -0.172978  ... -0.324481  1.611383 -0.378475   \n",
       "4      -0.193621  1.261282 -0.172978  ... -0.524279  1.253432 -0.378475   \n",
       "...          ...       ...       ...  ...       ...       ...       ...   \n",
       "1185   -0.193621 -0.278129 -0.172978  ...  2.339489 -0.536326 -0.378475   \n",
       "1186   -0.193621 -0.278129 -0.172978  ... -0.324481  1.253432 -0.378475   \n",
       "1187   -0.193621  1.261282 -0.172978  ...  0.874305 -0.894277 -0.378475   \n",
       "1188   -0.193621  1.261282 -0.172978  ...  0.508010 -0.894277 -0.378475   \n",
       "1189   -0.193621 -0.278129 -0.172978  ...  0.474710  0.537529 -0.378475   \n",
       "\n",
       "       LID_S_n  B_BLOK_S_n  ANT_CA_S_n  GEPAR_S_n   ASP_S_n  TIKL_S_n  \\\n",
       "0    -0.642187   -0.375319    0.706840   0.624326 -1.679815 -0.139054   \n",
       "1    -0.642187   -0.375319   -1.423706   0.624326  0.601605 -0.139054   \n",
       "2    -0.642187   -0.375319   -1.423706   0.624326  0.601605 -0.139054   \n",
       "3    -0.642187   -0.375319    0.706840   0.624326 -1.679815 -0.139054   \n",
       "4    -0.642187   -0.375319   -1.423706   0.624326 -1.679815 -0.139054   \n",
       "...        ...         ...         ...        ...       ...       ...   \n",
       "1185 -0.642187   -0.375319   -1.423706  -1.614819 -1.679815 -0.139054   \n",
       "1186 -0.642187   -0.375319   -1.423706   0.624326  0.601605 -0.139054   \n",
       "1187 -0.642187   -0.375319   -1.423706   0.624326  0.601605 -0.139054   \n",
       "1188 -0.642187   -0.375319    0.706840  -1.614819  0.601605 -0.139054   \n",
       "1189 -0.642187   -0.375319    0.706840  -1.614819 -1.679815 -0.139054   \n",
       "\n",
       "      TRENT_S_n  \n",
       "0      2.003428  \n",
       "1     -0.502173  \n",
       "2      2.003428  \n",
       "3      2.003428  \n",
       "4     -0.502173  \n",
       "...         ...  \n",
       "1185   2.003428  \n",
       "1186  -0.502173  \n",
       "1187   2.003428  \n",
       "1188  -0.502173  \n",
       "1189   2.003428  \n",
       "\n",
       "[1190 rows x 79 columns]"
      ],
      "text/html": [
       "<div>\n",
       "<style scoped>\n",
       "    .dataframe tbody tr th:only-of-type {\n",
       "        vertical-align: middle;\n",
       "    }\n",
       "\n",
       "    .dataframe tbody tr th {\n",
       "        vertical-align: top;\n",
       "    }\n",
       "\n",
       "    .dataframe thead th {\n",
       "        text-align: right;\n",
       "    }\n",
       "</style>\n",
       "<table border=\"1\" class=\"dataframe\">\n",
       "  <thead>\n",
       "    <tr style=\"text-align: right;\">\n",
       "      <th></th>\n",
       "      <th>AGE</th>\n",
       "      <th>SEX</th>\n",
       "      <th>INF_ANAM</th>\n",
       "      <th>STENOK_AN</th>\n",
       "      <th>FK_STENOK</th>\n",
       "      <th>IBS_POST</th>\n",
       "      <th>GB</th>\n",
       "      <th>SIM_GIPERT</th>\n",
       "      <th>ZSN_A</th>\n",
       "      <th>nr_11</th>\n",
       "      <th>...</th>\n",
       "      <th>L_BLOOD</th>\n",
       "      <th>TIME_B_S</th>\n",
       "      <th>NITR_S</th>\n",
       "      <th>LID_S_n</th>\n",
       "      <th>B_BLOK_S_n</th>\n",
       "      <th>ANT_CA_S_n</th>\n",
       "      <th>GEPAR_S_n</th>\n",
       "      <th>ASP_S_n</th>\n",
       "      <th>TIKL_S_n</th>\n",
       "      <th>TRENT_S_n</th>\n",
       "    </tr>\n",
       "  </thead>\n",
       "  <tbody>\n",
       "    <tr>\n",
       "      <th>0</th>\n",
       "      <td>0.340208</td>\n",
       "      <td>0.785397</td>\n",
       "      <td>-0.661077</td>\n",
       "      <td>1.595975</td>\n",
       "      <td>0.743926</td>\n",
       "      <td>1.015624</td>\n",
       "      <td>0.564308</td>\n",
       "      <td>-0.193621</td>\n",
       "      <td>-0.278129</td>\n",
       "      <td>-0.172978</td>\n",
       "      <td>...</td>\n",
       "      <td>1.273901</td>\n",
       "      <td>0.537529</td>\n",
       "      <td>2.652381</td>\n",
       "      <td>-0.642187</td>\n",
       "      <td>-0.375319</td>\n",
       "      <td>0.706840</td>\n",
       "      <td>0.624326</td>\n",
       "      <td>-1.679815</td>\n",
       "      <td>-0.139054</td>\n",
       "      <td>2.003428</td>\n",
       "    </tr>\n",
       "    <tr>\n",
       "      <th>1</th>\n",
       "      <td>-0.566373</td>\n",
       "      <td>0.785397</td>\n",
       "      <td>0.560478</td>\n",
       "      <td>-0.888818</td>\n",
       "      <td>-1.203867</td>\n",
       "      <td>-1.491829</td>\n",
       "      <td>0.564308</td>\n",
       "      <td>-0.193621</td>\n",
       "      <td>-0.278129</td>\n",
       "      <td>-0.172978</td>\n",
       "      <td>...</td>\n",
       "      <td>-1.356769</td>\n",
       "      <td>1.253432</td>\n",
       "      <td>-0.378475</td>\n",
       "      <td>-0.642187</td>\n",
       "      <td>-0.375319</td>\n",
       "      <td>-1.423706</td>\n",
       "      <td>0.624326</td>\n",
       "      <td>0.601605</td>\n",
       "      <td>-0.139054</td>\n",
       "      <td>-0.502173</td>\n",
       "    </tr>\n",
       "    <tr>\n",
       "      <th>2</th>\n",
       "      <td>0.158892</td>\n",
       "      <td>0.785397</td>\n",
       "      <td>-0.661077</td>\n",
       "      <td>-0.888818</td>\n",
       "      <td>0.743926</td>\n",
       "      <td>-0.238103</td>\n",
       "      <td>0.564308</td>\n",
       "      <td>-0.193621</td>\n",
       "      <td>-0.278129</td>\n",
       "      <td>-0.172978</td>\n",
       "      <td>...</td>\n",
       "      <td>1.040803</td>\n",
       "      <td>-0.178374</td>\n",
       "      <td>-0.378475</td>\n",
       "      <td>-0.642187</td>\n",
       "      <td>-0.375319</td>\n",
       "      <td>-1.423706</td>\n",
       "      <td>0.624326</td>\n",
       "      <td>0.601605</td>\n",
       "      <td>-0.139054</td>\n",
       "      <td>2.003428</td>\n",
       "    </tr>\n",
       "    <tr>\n",
       "      <th>3</th>\n",
       "      <td>0.702840</td>\n",
       "      <td>0.785397</td>\n",
       "      <td>-0.661077</td>\n",
       "      <td>1.595975</td>\n",
       "      <td>0.743926</td>\n",
       "      <td>-0.238103</td>\n",
       "      <td>-1.278015</td>\n",
       "      <td>-0.193621</td>\n",
       "      <td>-0.278129</td>\n",
       "      <td>-0.172978</td>\n",
       "      <td>...</td>\n",
       "      <td>-0.324481</td>\n",
       "      <td>1.611383</td>\n",
       "      <td>-0.378475</td>\n",
       "      <td>-0.642187</td>\n",
       "      <td>-0.375319</td>\n",
       "      <td>0.706840</td>\n",
       "      <td>0.624326</td>\n",
       "      <td>-1.679815</td>\n",
       "      <td>-0.139054</td>\n",
       "      <td>2.003428</td>\n",
       "    </tr>\n",
       "    <tr>\n",
       "      <th>4</th>\n",
       "      <td>0.158892</td>\n",
       "      <td>-1.273242</td>\n",
       "      <td>-0.661077</td>\n",
       "      <td>-0.888818</td>\n",
       "      <td>-1.203867</td>\n",
       "      <td>1.015624</td>\n",
       "      <td>0.564308</td>\n",
       "      <td>-0.193621</td>\n",
       "      <td>1.261282</td>\n",
       "      <td>-0.172978</td>\n",
       "      <td>...</td>\n",
       "      <td>-0.524279</td>\n",
       "      <td>1.253432</td>\n",
       "      <td>-0.378475</td>\n",
       "      <td>-0.642187</td>\n",
       "      <td>-0.375319</td>\n",
       "      <td>-1.423706</td>\n",
       "      <td>0.624326</td>\n",
       "      <td>-1.679815</td>\n",
       "      <td>-0.139054</td>\n",
       "      <td>-0.502173</td>\n",
       "    </tr>\n",
       "    <tr>\n",
       "      <th>...</th>\n",
       "      <td>...</td>\n",
       "      <td>...</td>\n",
       "      <td>...</td>\n",
       "      <td>...</td>\n",
       "      <td>...</td>\n",
       "      <td>...</td>\n",
       "      <td>...</td>\n",
       "      <td>...</td>\n",
       "      <td>...</td>\n",
       "      <td>...</td>\n",
       "      <td>...</td>\n",
       "      <td>...</td>\n",
       "      <td>...</td>\n",
       "      <td>...</td>\n",
       "      <td>...</td>\n",
       "      <td>...</td>\n",
       "      <td>...</td>\n",
       "      <td>...</td>\n",
       "      <td>...</td>\n",
       "      <td>...</td>\n",
       "      <td>...</td>\n",
       "    </tr>\n",
       "    <tr>\n",
       "      <th>1185</th>\n",
       "      <td>1.065472</td>\n",
       "      <td>-1.273242</td>\n",
       "      <td>-0.661077</td>\n",
       "      <td>-0.888818</td>\n",
       "      <td>0.743926</td>\n",
       "      <td>-0.238103</td>\n",
       "      <td>-1.278015</td>\n",
       "      <td>-0.193621</td>\n",
       "      <td>-0.278129</td>\n",
       "      <td>-0.172978</td>\n",
       "      <td>...</td>\n",
       "      <td>2.339489</td>\n",
       "      <td>-0.536326</td>\n",
       "      <td>-0.378475</td>\n",
       "      <td>-0.642187</td>\n",
       "      <td>-0.375319</td>\n",
       "      <td>-1.423706</td>\n",
       "      <td>-1.614819</td>\n",
       "      <td>-1.679815</td>\n",
       "      <td>-0.139054</td>\n",
       "      <td>2.003428</td>\n",
       "    </tr>\n",
       "    <tr>\n",
       "      <th>1186</th>\n",
       "      <td>0.068233</td>\n",
       "      <td>0.785397</td>\n",
       "      <td>-0.661077</td>\n",
       "      <td>-0.888818</td>\n",
       "      <td>-1.203867</td>\n",
       "      <td>-1.491829</td>\n",
       "      <td>-1.278015</td>\n",
       "      <td>-0.193621</td>\n",
       "      <td>-0.278129</td>\n",
       "      <td>-0.172978</td>\n",
       "      <td>...</td>\n",
       "      <td>-0.324481</td>\n",
       "      <td>1.253432</td>\n",
       "      <td>-0.378475</td>\n",
       "      <td>-0.642187</td>\n",
       "      <td>-0.375319</td>\n",
       "      <td>-1.423706</td>\n",
       "      <td>0.624326</td>\n",
       "      <td>0.601605</td>\n",
       "      <td>-0.139054</td>\n",
       "      <td>-0.502173</td>\n",
       "    </tr>\n",
       "    <tr>\n",
       "      <th>1187</th>\n",
       "      <td>0.068233</td>\n",
       "      <td>0.785397</td>\n",
       "      <td>-0.661077</td>\n",
       "      <td>1.595975</td>\n",
       "      <td>0.743926</td>\n",
       "      <td>-0.238103</td>\n",
       "      <td>-1.278015</td>\n",
       "      <td>-0.193621</td>\n",
       "      <td>1.261282</td>\n",
       "      <td>-0.172978</td>\n",
       "      <td>...</td>\n",
       "      <td>0.874305</td>\n",
       "      <td>-0.894277</td>\n",
       "      <td>-0.378475</td>\n",
       "      <td>-0.642187</td>\n",
       "      <td>-0.375319</td>\n",
       "      <td>-1.423706</td>\n",
       "      <td>0.624326</td>\n",
       "      <td>0.601605</td>\n",
       "      <td>-0.139054</td>\n",
       "      <td>2.003428</td>\n",
       "    </tr>\n",
       "    <tr>\n",
       "      <th>1188</th>\n",
       "      <td>0.430866</td>\n",
       "      <td>0.785397</td>\n",
       "      <td>0.560478</td>\n",
       "      <td>1.595975</td>\n",
       "      <td>0.743926</td>\n",
       "      <td>-0.238103</td>\n",
       "      <td>-1.278015</td>\n",
       "      <td>-0.193621</td>\n",
       "      <td>1.261282</td>\n",
       "      <td>-0.172978</td>\n",
       "      <td>...</td>\n",
       "      <td>0.508010</td>\n",
       "      <td>-0.894277</td>\n",
       "      <td>-0.378475</td>\n",
       "      <td>-0.642187</td>\n",
       "      <td>-0.375319</td>\n",
       "      <td>0.706840</td>\n",
       "      <td>-1.614819</td>\n",
       "      <td>0.601605</td>\n",
       "      <td>-0.139054</td>\n",
       "      <td>-0.502173</td>\n",
       "    </tr>\n",
       "    <tr>\n",
       "      <th>1189</th>\n",
       "      <td>-0.022425</td>\n",
       "      <td>0.785397</td>\n",
       "      <td>-0.661077</td>\n",
       "      <td>-0.888818</td>\n",
       "      <td>-1.203867</td>\n",
       "      <td>-1.491829</td>\n",
       "      <td>1.485470</td>\n",
       "      <td>-0.193621</td>\n",
       "      <td>-0.278129</td>\n",
       "      <td>-0.172978</td>\n",
       "      <td>...</td>\n",
       "      <td>0.474710</td>\n",
       "      <td>0.537529</td>\n",
       "      <td>-0.378475</td>\n",
       "      <td>-0.642187</td>\n",
       "      <td>-0.375319</td>\n",
       "      <td>0.706840</td>\n",
       "      <td>-1.614819</td>\n",
       "      <td>-1.679815</td>\n",
       "      <td>-0.139054</td>\n",
       "      <td>2.003428</td>\n",
       "    </tr>\n",
       "  </tbody>\n",
       "</table>\n",
       "<p>1190 rows × 79 columns</p>\n",
       "</div>"
      ]
     },
     "execution_count": 213,
     "metadata": {},
     "output_type": "execute_result"
    }
   ],
   "execution_count": 213
  },
  {
   "cell_type": "markdown",
   "id": "e7ef07cdb9a8e2f5",
   "metadata": {
    "id": "e7ef07cdb9a8e2f5"
   },
   "source": [
    "## 4. Hyperparameter Tuning"
   ]
  },
  {
   "cell_type": "code",
   "id": "7191b47040d70eb3",
   "metadata": {
    "id": "7191b47040d70eb3",
    "ExecuteTime": {
     "end_time": "2024-06-02T02:49:38.004365Z",
     "start_time": "2024-06-02T02:49:37.996287Z"
    }
   },
   "source": [
    "from imblearn.pipeline import Pipeline\n",
    "from imblearn.over_sampling import SMOTE\n",
    "from sklearn.model_selection import GridSearchCV\n",
    "from sklearn.tree import DecisionTreeClassifier\n",
    "from sklearn.metrics import confusion_matrix\n",
    "from sklearn.model_selection import learning_curve\n",
    "import matplotlib.pyplot as plt\n",
    "from sklearn.model_selection import RepeatedStratifiedKFold\n",
    "from sklearn.model_selection import StratifiedKFold\n",
    "from sklearn.metrics import accuracy_score\n",
    "from sklearn.metrics import precision_score\n",
    "from sklearn.metrics import recall_score\n",
    "from sklearn.metrics import f1_score\n",
    "from sklearn.metrics import roc_auc_score"
   ],
   "outputs": [],
   "execution_count": 214
  },
  {
   "cell_type": "markdown",
   "id": "88601a1a4c361bd8",
   "metadata": {
    "id": "88601a1a4c361bd8"
   },
   "source": [
    "### SMOTE"
   ]
  },
  {
   "cell_type": "markdown",
   "id": "ff393bb3a23b74d3",
   "metadata": {
    "id": "ff393bb3a23b74d3"
   },
   "source": [
    "#### Grid search"
   ]
  },
  {
   "cell_type": "code",
   "id": "ab197e847bc3e274",
   "metadata": {
    "colab": {
     "base_uri": "https://localhost:8080/"
    },
    "id": "ab197e847bc3e274",
    "outputId": "5aee3512-cec2-4d19-d43d-6fdab23e64e5",
    "ExecuteTime": {
     "end_time": "2024-06-02T02:49:38.021069Z",
     "start_time": "2024-06-02T02:49:38.008392Z"
    }
   },
   "source": [
    "%%script false --no-raise-error\n",
    "# Define the pipeline\n",
    "pipeline = Pipeline(steps=[\n",
    "    ('smote', SMOTE(random_state=0)),\n",
    "    ('model', DecisionTreeClassifier(random_state=0, class_weight='balanced'))\n",
    "])\n",
    "\n",
    "# Post-pruning\n",
    "# path = DecisionTreeClassifier(random_state=0, class_weight={0: 1, 1: 3}).cost_complexity_pruning_path(X_train[0], y_train[0])\n",
    "# ccp_alphas, impurities = path.ccp_alphas, path.impurities\n",
    "# candidate_alphas = ccp_alphas[::10]\n",
    "\n",
    "# Define the hyperparameters\n",
    "param_grid = {\n",
    "    'smote__sampling_strategy': [0.5, 0.6, 0.7, 0.8, 0.9, 1.0],\n",
    "    'model__max_depth': range(3, 10, 1),\n",
    "    'model__max_features': ['sqrt'],\n",
    "    'model__min_samples_split': range(10, 50, 5),\n",
    "    'model__min_samples_leaf': range(10, 40, 5),\n",
    "    # 'model__ccp_alpha': candidate_alphas,\n",
    "}\n",
    "\n",
    "# Define cross validation method\n",
    "# cv = RepeatedStratifiedKFold(n_splits=10, n_repeats=3, random_state=0)\n",
    "cv = StratifiedKFold(n_splits=10, shuffle=True, random_state=0)\n",
    "\n",
    "# Define the grid search\n",
    "grid_search = GridSearchCV(pipeline, param_grid, cv=cv, scoring='roc_auc')\n",
    "\n",
    "# Define best models\n",
    "best_model = []\n",
    "\n",
    "for i in range(len(y)):\n",
    "    # pipeline.set_params(model__class_weight=weights[i])\n",
    "    grid_search.fit(X_train[i], y_train[i])\n",
    "    best_model.append(grid_search.best_estimator_)\n",
    "    print(f\"==================== Hyperparameters for y{i} ====================\")\n",
    "    print(f\"{grid_search.best_params_}, {grid_search.best_score_}\")\n",
    "model_SMOTE_balanced = best_model\n",
    "%store model_SMOTE_balanced"
   ],
   "outputs": [
    {
     "name": "stdout",
     "output_type": "stream",
     "text": [
      "Couldn't find program: 'false'\n"
     ]
    }
   ],
   "execution_count": 215
  },
  {
   "cell_type": "markdown",
   "source": [
    "==================== Hyperparameters for y0 ====================\n",
    "\n",
    "{'model__max_depth': 9, 'model__max_features': 'sqrt', 'model__min_samples_leaf': 10, 'model__min_samples_split': 45, 'smote__sampling_strategy': 0.7}, 0.6116682719167191\n",
    "\n",
    "==================== Hyperparameters for y1 ====================\n",
    "\n",
    "{'model__max_depth': 9, 'model__max_features': 'sqrt', 'model__min_samples_leaf': 10, 'model__min_samples_split': 30, 'smote__sampling_strategy': 0.8}, 0.6574707353912962\n",
    "\n",
    "==================== Hyperparameters for y2 ====================\n",
    "\n",
    "{'model__max_depth': 7, 'model__max_features': 'sqrt', 'model__min_samples_leaf': 15, 'model__min_samples_split': 10, 'smote__sampling_strategy': 0.5}, 0.6440933802860408\n",
    "\n",
    "==================== Hyperparameters for y3 ====================\n",
    "\n",
    "{'model__max_depth': 8, 'model__max_features': 'sqrt', 'model__min_samples_leaf': 15, 'model__min_samples_split': 45, 'smote__sampling_strategy': 0.5}, 0.6031089713332703\n",
    "\n",
    "==================== Hyperparameters for y4 ====================\n",
    "\n",
    "{'model__max_depth': 8, 'model__max_features': 'sqrt', 'model__min_samples_leaf': 15, 'model__min_samples_split': 35, 'smote__sampling_strategy': 0.8}, 0.6849900877938262\n",
    "\n",
    "Stored 'model_SMOTE_balanced' (list)"
   ],
   "metadata": {
    "id": "G6YzDJNEgQIn"
   },
   "id": "G6YzDJNEgQIn"
  },
  {
   "cell_type": "markdown",
   "id": "9d1affccbc6a966f",
   "metadata": {
    "id": "9d1affccbc6a966f"
   },
   "source": [
    "#### Test tables"
   ]
  },
  {
   "cell_type": "code",
   "source": [
    "# Train models\n",
    "best_model = []\n",
    "# ZSN\n",
    "pipeline = Pipeline(steps=[\n",
    "   ('smote', SMOTE(random_state=0, sampling_strategy=0.7)),\n",
    "   ('model', DecisionTreeClassifier(random_state=0, class_weight='balanced', max_depth=9, max_features='sqrt', min_samples_split=45, min_samples_leaf=10))\n",
    "])\n",
    "pipeline.fit(X_train[0], y_train[0])\n",
    "best_model.append(pipeline)\n",
    "\n",
    "# FIBR_PREDS\n",
    "pipeline = Pipeline(steps=[\n",
    "   ('smote', SMOTE(random_state=0, sampling_strategy=0.8)),\n",
    "   ('model', DecisionTreeClassifier(random_state=0, class_weight='balanced', max_depth=9, max_features='sqrt', min_samples_split=30, min_samples_leaf=10))\n",
    "])\n",
    "pipeline.fit(X_train[1], y_train[1])\n",
    "best_model.append(pipeline)\n",
    "\n",
    "# P_IM_STEN\n",
    "pipeline = Pipeline(steps=[\n",
    "   ('smote', SMOTE(random_state=0, sampling_strategy=0.5)),\n",
    "   ('model', DecisionTreeClassifier(random_state=0, class_weight='balanced', max_depth=7, max_features='sqrt', min_samples_split=10, min_samples_leaf=15))\n",
    "])\n",
    "pipeline.fit(X_train[2], y_train[2])\n",
    "best_model.append(pipeline)\n",
    "\n",
    "# REC_IM\n",
    "pipeline = Pipeline(steps=[\n",
    "   ('smote', SMOTE(random_state=0, sampling_strategy=0.5)),\n",
    "   ('model', DecisionTreeClassifier(random_state=0, class_weight='balanced', max_depth=8, max_features='sqrt' , min_samples_split=45, min_samples_leaf=15))\n",
    "])\n",
    "pipeline.fit(X_train[3], y_train[3])\n",
    "best_model.append(pipeline)\n",
    "\n",
    "# OTEK_LANC\n",
    "pipeline = Pipeline(steps=[\n",
    "   ('smote', SMOTE(random_state=0, sampling_strategy=0.8)),\n",
    "   ('model', DecisionTreeClassifier(random_state=0, class_weight='balanced', max_depth=8, max_features='sqrt', min_samples_split=35, min_samples_leaf=15))\n",
    "])\n",
    "pipeline.fit(X_train[4], y_train[4])\n",
    "best_model.append(pipeline)"
   ],
   "metadata": {
    "id": "j6KKfnjIflzB",
    "ExecuteTime": {
     "end_time": "2024-06-02T02:49:38.612021Z",
     "start_time": "2024-06-02T02:49:38.023077Z"
    }
   },
   "id": "j6KKfnjIflzB",
   "outputs": [],
   "execution_count": 216
  },
  {
   "cell_type": "code",
   "id": "adc6a3aae1381f06",
   "metadata": {
    "id": "adc6a3aae1381f06",
    "ExecuteTime": {
     "end_time": "2024-06-02T02:49:38.739143Z",
     "start_time": "2024-06-02T02:49:38.617038Z"
    }
   },
   "source": [
    "# Confusion matrix\n",
    "test_SMOTE_balanced_conf = {\"Metric\": [\"TN\", \"FP\", \"FN\", \"TP\"]}\n",
    "\n",
    "# Tables\n",
    "test_SMOTE_balanced = {\"Metric\": [\"Accuracy\", \"Precision\", \"Recall\", \"F1 Score\", \"ROC AUC\"]}\n",
    "\n",
    "for i in range(len(y)):\n",
    "    y_pred = best_model[i].predict(X_test[i])\n",
    "\n",
    "    # Test metrics table\n",
    "    test_SMOTE_balanced[f\"y{i}\"] = [\n",
    "        accuracy_score(y_test[i], y_pred),\n",
    "        precision_score(y_test[i], y_pred),\n",
    "        recall_score(y_test[i], y_pred),\n",
    "        f1_score(y_test[i], y_pred),\n",
    "        roc_auc_score(y_test[i], y_pred),\n",
    "    ]\n",
    "\n",
    "    # Test confusion matrix showing TP TN FN FP\n",
    "    tn, fp, fn, tp = confusion_matrix(y_test[i], y_pred).ravel()\n",
    "    test_SMOTE_balanced_conf[f\"y{i}\"] = [tn, fp, fn, tp]\n",
    "\n",
    "# Test\n",
    "test_SMOTE_balanced = pd.DataFrame(test_SMOTE_balanced)\n",
    "test_SMOTE_balanced.columns = [\"Metric\", \"ZSN\", \"FIBR_PREDS\", \"P_IM_STEN\", \"REC_IM\", \"OTEK_LANC\"]\n",
    "\n",
    "# Confusion matrix\n",
    "test_SMOTE_balanced_conf = pd.DataFrame(test_SMOTE_balanced_conf)\n",
    "test_SMOTE_balanced_conf.columns = [\"Metric\", \"ZSN\", \"FIBR_PREDS\", \"P_IM_STEN\", \"REC_IM\", \"OTEK_LANC\"]"
   ],
   "outputs": [],
   "execution_count": 217
  },
  {
   "cell_type": "markdown",
   "id": "7869f112201664aa",
   "metadata": {
    "id": "7869f112201664aa"
   },
   "source": [
    "#### Learning curve"
   ]
  },
  {
   "cell_type": "code",
   "id": "9e3058c79ab9e007",
   "metadata": {
    "colab": {
     "base_uri": "https://localhost:8080/",
     "height": 1000
    },
    "id": "9e3058c79ab9e007",
    "outputId": "348fa721-2032-4e76-e892-e6bff5dbc05d",
    "ExecuteTime": {
     "end_time": "2024-06-02T02:49:47.418720Z",
     "start_time": "2024-06-02T02:49:38.743159Z"
    }
   },
   "source": [
    "cv = StratifiedKFold(n_splits=10, shuffle=True, random_state=0)\n",
    "for i in range(len(y)):\n",
    "    # Learning curve graph\n",
    "    train_sizes, train_scores, test_scores = learning_curve(best_model[i], X_train[i], y_train[i], cv=cv, n_jobs=-1, scoring='roc_auc')\n",
    "    train_scores_mean = np.mean(train_scores, axis=1)\n",
    "    test_scores_mean = np.mean(test_scores, axis=1)\n",
    "    plt.plot(train_sizes, train_scores_mean, label='Training Score')\n",
    "    plt.plot(train_sizes, test_scores_mean, label='Cross-Validation Score')\n",
    "    plt.yticks(np.arange(0, 1.1, 0.1))\n",
    "    plt.ylabel('ROC_AUC Score')\n",
    "    plt.xlabel('Training Set Size')\n",
    "    plt.title('Learning Curve - Target y{}'.format(i))\n",
    "    plt.legend()\n",
    "    plt.grid(True)\n",
    "    plt.show()"
   ],
   "outputs": [
    {
     "data": {
      "text/plain": [
       "<Figure size 640x480 with 1 Axes>"
      ],
      "image/png": "[encoded data removed]"
     },
     "metadata": {},
     "output_type": "display_data"
    },
    {
     "data": {
      "text/plain": [
       "<Figure size 640x480 with 1 Axes>"
      ],
      "image/png": "[encoded data removed]"
     },
     "metadata": {},
     "output_type": "display_data"
    },
    {
     "data": {
      "text/plain": [
       "<Figure size 640x480 with 1 Axes>"
      ],
      "image/png": "[encoded data removed]"
     },
     "metadata": {},
     "output_type": "display_data"
    },
    {
     "data": {
      "text/plain": [
       "<Figure size 640x480 with 1 Axes>"
      ],
      "image/png": "[encoded data removed]"
     },
     "metadata": {},
     "output_type": "display_data"
    },
    {
     "data": {
      "text/plain": [
       "<Figure size 640x480 with 1 Axes>"
      ],
      "image/png": "[encoded data removed]"
     },
     "metadata": {},
     "output_type": "display_data"
    }
   ],
   "execution_count": 218
  },
  {
   "cell_type": "markdown",
   "id": "285eef0173c9243a",
   "metadata": {
    "id": "285eef0173c9243a"
   },
   "source": [
    "### Cost-sensitive Decision Tree"
   ]
  },
  {
   "cell_type": "markdown",
   "id": "8e9b1ccd71a9d69a",
   "metadata": {
    "id": "8e9b1ccd71a9d69a"
   },
   "source": [
    "#### Grid search"
   ]
  },
  {
   "cell_type": "code",
   "id": "72fb71858776026c",
   "metadata": {
    "colab": {
     "base_uri": "https://localhost:8080/"
    },
    "id": "72fb71858776026c",
    "outputId": "89345287-7bed-40d8-c09e-3a738bcb7841",
    "ExecuteTime": {
     "end_time": "2024-06-02T02:49:47.431747Z",
     "start_time": "2024-06-02T02:49:47.421728Z"
    }
   },
   "source": [
    "%%script false --no-raise-error\n",
    "# Define the pipeline\n",
    "pipeline = Pipeline(steps=[\n",
    "    ('model', DecisionTreeClassifier(random_state=0))\n",
    "])\n",
    "\n",
    "# Define class weights\n",
    "class_weights_zsn = {0: 1, 1: y[0].value_counts()[0] / y[0].value_counts()[1]}\n",
    "class_weights_fibr_preds = {0: 1, 1: y[1].value_counts()[0] / y[1].value_counts()[1]}\n",
    "class_weights_p_im_sten = {0: 1, 1: y[2].value_counts()[0] / y[2].value_counts()[1]}\n",
    "class_weights_rec_im = {0: 1, 1: y[3].value_counts()[0] / y[3].value_counts()[1]}\n",
    "class_weights_otek_lanc = {0: 1, 1: y[4].value_counts()[0] / y[4].value_counts()[1]}\n",
    "weights = [class_weights_zsn, class_weights_fibr_preds, class_weights_p_im_sten, class_weights_rec_im, class_weights_otek_lanc]\n",
    "\n",
    "# Post-pruning\n",
    "# path = DecisionTreeClassifier(random_state=0, class_weight={0: 1, 1: 3}).cost_complexity_pruning_path(X_train[0], y_train[0])\n",
    "# ccp_alphas, impurities = path.ccp_alphas, path.impurities\n",
    "# candidate_alphas = ccp_alphas[::10]\n",
    "\n",
    "# Define the hyperparameters\n",
    "param_grid = {\n",
    "    'model__max_depth': range(2, 10, 1),\n",
    "    'model__min_samples_split': range(10, 50, 5),\n",
    "    'model__max_features': ['sqrt'],\n",
    "    'model__min_samples_leaf': range(10, 40, 5),\n",
    "    # 'model__ccp_alpha': candidate_alphas,\n",
    "}\n",
    "\n",
    "# Define cross validation method\n",
    "# cv = RepeatedStratifiedKFold(n_splits=5, n_repeats=3, random_state=0)\n",
    "cv = StratifiedKFold(n_splits=10, shuffle=True, random_state=0)\n",
    "\n",
    "# Define the grid search\n",
    "grid_search = GridSearchCV(pipeline, param_grid, cv=cv, scoring='roc_auc')\n",
    "\n",
    "# Define best model\n",
    "best_model = []\n",
    "\n",
    "for i in range(len(y)):\n",
    "    pipeline.set_params(model__class_weight=weights[i]) # Adding weights to the current model\n",
    "    grid_search.fit(X_train[i], y_train[i])\n",
    "    best_model.append(grid_search.best_estimator_)\n",
    "\n",
    "    print(f\"==================== Hyperparameters for y{i} ====================\")\n",
    "    print(f\"{grid_search.best_params_}, {grid_search.best_score_}\")\n",
    "model_cost_sensitive = best_model\n",
    "%store model_cost_sensitive"
   ],
   "outputs": [
    {
     "name": "stdout",
     "output_type": "stream",
     "text": [
      "Couldn't find program: 'false'\n"
     ]
    }
   ],
   "execution_count": 219
  },
  {
   "cell_type": "markdown",
   "id": "7b0e5245c60172de",
   "metadata": {
    "id": "7b0e5245c60172de"
   },
   "source": [
    "#### Test tables"
   ]
  },
  {
   "cell_type": "markdown",
   "source": [
    "==================== Hyperparameters for y0 ====================\n",
    "\n",
    "{'model__max_depth': 9, 'model__max_features': 'sqrt', 'model__min_samples_leaf': 10, 'model__min_samples_split': 25}, 0.6391368810623469\n",
    "\n",
    "==================== Hyperparameters for y1 ====================\n",
    "\n",
    "{'model__max_depth': 7, 'model__max_features': 'sqrt', 'model__min_samples_leaf': 35, 'model__min_samples_split': 10}, 0.67662725384688\n",
    "\n",
    "==================== Hyperparameters for y2 ====================\n",
    "\n",
    "{'model__max_depth': 5, 'model__max_features': 'sqrt', 'model__min_samples_leaf': 20, 'model__min_samples_split': 10}, 0.6315082785036912\n",
    "\n",
    "==================== Hyperparameters for y3 ====================\n",
    "\n",
    "{'model__max_depth': 5, 'model__max_features': 'sqrt', 'model__min_samples_leaf': 35, 'model__min_samples_split': 10}, 0.5961700336700336\n",
    "\n",
    "==================== Hyperparameters for y4 ====================\n",
    "\n",
    "{'model__max_depth': 5, 'model__max_features': 'sqrt', 'model__min_samples_leaf': 25, 'model__min_samples_split': 10}, 0.6818382422354385\n",
    "\n",
    "Stored 'model_cost_sensitive' (list)"
   ],
   "metadata": {
    "id": "ZyOm1QAthpnf"
   },
   "id": "ZyOm1QAthpnf"
  },
  {
   "cell_type": "code",
   "source": [
    "# Train models\n",
    "best_model = []\n",
    "\n",
    "class_weights_zsn = {0: 1, 1: y[0].value_counts()[0] / y[0].value_counts()[1]}\n",
    "class_weights_fibr_preds = {0: 1, 1: y[1].value_counts()[0] / y[1].value_counts()[1]}\n",
    "class_weights_p_im_sten = {0: 1, 1: y[2].value_counts()[0] / y[2].value_counts()[1]}\n",
    "class_weights_rec_im = {0: 1, 1: y[3].value_counts()[0] / y[3].value_counts()[1]}\n",
    "class_weights_otek_lanc = {0: 1, 1: y[4].value_counts()[0] / y[4].value_counts()[1]}\n",
    "\n",
    "# ZSN\n",
    "pipeline = Pipeline(steps=[\n",
    "    ('model', DecisionTreeClassifier(random_state=0, max_depth=9, max_features='sqrt', min_samples_leaf=10, min_samples_split=25, class_weight=class_weights_zsn))\n",
    "])\n",
    "pipeline.fit(X_train[0], y_train[0])\n",
    "best_model.append(pipeline)\n",
    "\n",
    "# FIBR_PREDS\n",
    "pipeline = Pipeline(steps=[\n",
    "    ('model', DecisionTreeClassifier(random_state=0, max_depth=7, max_features='sqrt', min_samples_leaf=35, min_samples_split=10, class_weight=class_weights_fibr_preds))\n",
    "])\n",
    "pipeline.fit(X_train[1], y_train[1])\n",
    "best_model.append(pipeline)\n",
    "\n",
    "# P_IM_STEN\n",
    "pipeline = Pipeline(steps=[\n",
    "    ('model', DecisionTreeClassifier(random_state=0, max_depth=5, max_features='sqrt', min_samples_leaf=20, min_samples_split=10, class_weight=class_weights_p_im_sten))\n",
    "])\n",
    "pipeline.fit(X_train[2], y_train[2])\n",
    "best_model.append(pipeline)\n",
    "\n",
    "# REC_IM\n",
    "pipeline = Pipeline(steps=[\n",
    "    ('model', DecisionTreeClassifier(random_state=0, max_depth=5, max_features='sqrt', min_samples_leaf=35, min_samples_split=10, class_weight=class_weights_rec_im))\n",
    "])\n",
    "pipeline.fit(X_train[3], y_train[3])\n",
    "best_model.append(pipeline)\n",
    "\n",
    "# OTEK_LANC\n",
    "pipeline = Pipeline(steps=[\n",
    "    ('model', DecisionTreeClassifier(random_state=0, max_depth=5, max_features='sqrt', min_samples_leaf=25, min_samples_split=10, class_weight=class_weights_otek_lanc))\n",
    "])\n",
    "pipeline.fit(X_train[4], y_train[4])\n",
    "best_model.append(pipeline)"
   ],
   "metadata": {
    "id": "mLYGyZTFfOpQ",
    "ExecuteTime": {
     "end_time": "2024-06-02T02:49:47.468952Z",
     "start_time": "2024-06-02T02:49:47.433755Z"
    }
   },
   "id": "mLYGyZTFfOpQ",
   "outputs": [],
   "execution_count": 220
  },
  {
   "cell_type": "code",
   "id": "96d56385ef846139",
   "metadata": {
    "id": "96d56385ef846139",
    "ExecuteTime": {
     "end_time": "2024-06-02T02:49:47.541537Z",
     "start_time": "2024-06-02T02:49:47.470960Z"
    }
   },
   "source": [
    "# Confusion matrix\n",
    "test_cost_sensitive_conf = {\"Metric\": [\"TN\", \"FP\", \"FN\", \"TP\"]}\n",
    "\n",
    "# Tables\n",
    "test_cost_sensitive = {\"Metric\": [\"Accuracy\", \"Precision\", \"Recall\", \"F1 Score\", \"ROC AUC\"]}\n",
    "\n",
    "for i in range(len(y)):\n",
    "    y_pred = best_model[i].predict(X_test[i])\n",
    "\n",
    "    # Test metrics table\n",
    "    test_cost_sensitive[f\"y{i}\"] = [\n",
    "        accuracy_score(y_test[i], y_pred),\n",
    "        precision_score(y_test[i], y_pred),\n",
    "        recall_score(y_test[i], y_pred),\n",
    "        f1_score(y_test[i], y_pred),\n",
    "        roc_auc_score(y_test[i], y_pred)\n",
    "    ]\n",
    "\n",
    "    # Test confusion matrix showing TP TN FN FP\n",
    "    tn, fp, fn, tp = confusion_matrix(y_test[i], y_pred).ravel()\n",
    "    test_cost_sensitive_conf[f\"y{i}\"] = [tn, fp, fn, tp]\n",
    "\n",
    "# Test\n",
    "test_cost_sensitive = pd.DataFrame(test_cost_sensitive)\n",
    "test_cost_sensitive.columns = [\"Metric\", \"ZSN\", \"FIBR_PREDS\", \"P_IM_STEN\", \"REC_IM\", \"OTEK_LANC\"]\n",
    "\n",
    "# Confusion matrix\n",
    "test_cost_sensitive_conf = pd.DataFrame(test_cost_sensitive_conf)\n",
    "test_cost_sensitive_conf.columns = [\"Metric\", \"ZSN\", \"FIBR_PREDS\", \"P_IM_STEN\", \"REC_IM\", \"OTEK_LANC\"]"
   ],
   "outputs": [],
   "execution_count": 221
  },
  {
   "cell_type": "markdown",
   "id": "a4ca01230303e654",
   "metadata": {
    "id": "a4ca01230303e654"
   },
   "source": [
    "#### Learning curve"
   ]
  },
  {
   "cell_type": "code",
   "id": "f12e8bb5a3f8ed76",
   "metadata": {
    "colab": {
     "base_uri": "https://localhost:8080/",
     "height": 1000
    },
    "id": "f12e8bb5a3f8ed76",
    "outputId": "3e509e08-48f7-4084-9f00-8ff112a68322",
    "ExecuteTime": {
     "end_time": "2024-06-02T02:49:50.444211Z",
     "start_time": "2024-06-02T02:49:47.543553Z"
    }
   },
   "source": [
    "cv = StratifiedKFold(n_splits=10, shuffle=True, random_state=0)\n",
    "for i in range(len(y)):\n",
    "    # Learning curve graph\n",
    "    train_sizes, train_scores, test_scores = learning_curve(best_model[i], X_train[i], y_train[i], cv=cv, n_jobs=-1, scoring='roc_auc')\n",
    "    train_scores_mean = np.mean(train_scores, axis=1)\n",
    "    test_scores_mean = np.mean(test_scores, axis=1)\n",
    "    plt.plot(train_sizes, train_scores_mean, label='Training Score')\n",
    "    plt.plot(train_sizes, test_scores_mean, label='Cross-Validation Score')\n",
    "    plt.yticks(np.arange(0, 1.1, 0.1))\n",
    "    plt.ylabel('ROC_AUC Score')\n",
    "    plt.xlabel('Training Set Size')\n",
    "    plt.title('Learning Curve - Target y{}'.format(i))\n",
    "    plt.legend()\n",
    "    plt.grid(True)\n",
    "    plt.show()"
   ],
   "outputs": [
    {
     "data": {
      "text/plain": [
       "<Figure size 640x480 with 1 Axes>"
      ],
      "image/png": "[encoded data removed]"
     },
     "metadata": {},
     "output_type": "display_data"
    },
    {
     "data": {
      "text/plain": [
       "<Figure size 640x480 with 1 Axes>"
      ],
      "image/png": "[encoded data removed]"
     },
     "metadata": {},
     "output_type": "display_data"
    },
    {
     "data": {
      "text/plain": [
       "<Figure size 640x480 with 1 Axes>"
      ],
      "image/png": "[encoded data removed]"
     },
     "metadata": {},
     "output_type": "display_data"
    },
    {
     "data": {
      "text/plain": [
       "<Figure size 640x480 with 1 Axes>"
      ],
      "image/png": "[encoded data removed]"
     },
     "metadata": {},
     "output_type": "display_data"
    },
    {
     "data": {
      "text/plain": [
       "<Figure size 640x480 with 1 Axes>"
      ],
      "image/png": "[encoded data removed]"
     },
     "metadata": {},
     "output_type": "display_data"
    }
   ],
   "execution_count": 222
  },
  {
   "cell_type": "markdown",
   "id": "da20df0945a3ef02",
   "metadata": {
    "id": "da20df0945a3ef02"
   },
   "source": [
    "### Cost-sensitive + SMOTE"
   ]
  },
  {
   "cell_type": "markdown",
   "id": "e161a36d95442ed8",
   "metadata": {
    "id": "e161a36d95442ed8"
   },
   "source": [
    "#### Grid search"
   ]
  },
  {
   "cell_type": "code",
   "id": "4ddcec84ac12ce44",
   "metadata": {
    "colab": {
     "base_uri": "https://localhost:8080/"
    },
    "id": "4ddcec84ac12ce44",
    "outputId": "082a9468-6e89-45df-c11c-3f3212a323c6",
    "ExecuteTime": {
     "end_time": "2024-06-02T02:49:50.457227Z",
     "start_time": "2024-06-02T02:49:50.447223Z"
    }
   },
   "source": [
    "%%script false --no-raise-error\n",
    "# Define the pipeline\n",
    "pipeline = Pipeline(steps=[\n",
    "    ('smote', SMOTE(random_state=0)),\n",
    "    ('model', DecisionTreeClassifier(random_state=0))\n",
    "])\n",
    "\n",
    "# Post-pruning\n",
    "# path = DecisionTreeClassifier(random_state=0, class_weight={0: 1, 1: 3}).cost_complexity_pruning_path(X_train[0], y_train[0])\n",
    "# ccp_alphas, impurities = path.ccp_alphas, path.impurities\n",
    "# candidate_alphas = ccp_alphas[::10]\n",
    "\n",
    "# Define the hyperparameters\n",
    "param_grid = {\n",
    "    'smote__sampling_strategy': [0.5, 0.6, 0.7],\n",
    "    'model__max_depth': range(2, 10, 1),\n",
    "    'model__min_samples_split': range(10, 50, 5),\n",
    "    'model__min_samples_leaf': range(10, 40, 5),\n",
    "    'model__class_weight': [{0: 1, 1: 2}, {0: 1, 1: 3}, {0: 1, 1: 4}, {0: 1, 1: 5}, {0: 1, 1: 6}],\n",
    "    'model__max_features': ['sqrt'],\n",
    "    # 'model__ccp_alpha': candidate_alphas,\n",
    "}\n",
    "\n",
    "# Define cross validation method\n",
    "# cv = RepeatedStratifiedKFold(n_splits=5, n_repeats=3, random_state=0)\n",
    "cv = StratifiedKFold(n_splits=10, shuffle=True, random_state=0)\n",
    "\n",
    "# Define the grid search\n",
    "grid_search = GridSearchCV(pipeline, param_grid, cv=cv, scoring='roc_auc')\n",
    "\n",
    "# Define best model\n",
    "best_model = []\n",
    "\n",
    "for i in range(len(y)):\n",
    "    grid_search.fit(X_train[i], y_train[i])\n",
    "    best_model.append(grid_search.best_estimator_)\n",
    "\n",
    "    print(f\"==================== Hyperparameters for y{i} ====================\")\n",
    "    print(f\"{grid_search.best_params_}, {grid_search.best_score_}\")\n",
    "model_SMOTE_cost_sensitive = best_model\n",
    "%store model_SMOTE_cost_sensitive"
   ],
   "outputs": [
    {
     "name": "stdout",
     "output_type": "stream",
     "text": [
      "Couldn't find program: 'false'\n"
     ]
    }
   ],
   "execution_count": 223
  },
  {
   "cell_type": "markdown",
   "source": [
    "==================== Hyperparameters for y0 ====================\n",
    "\n",
    "{'model__class_weight': {0: 1, 1: 4}, 'model__max_depth': 9, 'model__max_features': 'sqrt', 'model__min_samples_leaf': 10, 'model__min_samples_split': 25, 'smote__sampling_strategy': 0.7}, 0.6360853259921583\n",
    "\n",
    "==================== Hyperparameters for y1 ====================\n",
    "\n",
    "{'model__class_weight': {0: 1, 1: 5}, 'model__max_depth': 9, 'model__max_features': 'sqrt', 'model__min_samples_leaf': 10, 'model__min_samples_split': 30, 'smote__sampling_strategy': 0.5}, 0.6723292111142578\n",
    "\n",
    "==================== Hyperparameters for y2 ====================\n",
    "\n",
    "{'model__class_weight': {0: 1, 1: 4}, 'model__max_depth': 5, 'model__max_features': 'sqrt', 'model__min_samples_leaf': 30, 'model__min_samples_split': 10, 'smote__sampling_strategy': 0.5}, 0.6564454174775276\n",
    "\n",
    "==================== Hyperparameters for y3 ====================\n",
    "\n",
    "{'model__class_weight': {0: 1, 1: 6}, 'model__max_depth': 7, 'model__max_features': 'sqrt', 'model__min_samples_leaf': 10, 'model__min_samples_split': 10, 'smote__sampling_strategy': 0.5}, 0.616733534724189\n",
    "\n",
    "==================== Hyperparameters for y4 ====================\n",
    "\n",
    "{'model__class_weight': {0: 1, 1: 2}, 'model__max_depth': 9, 'model__max_features': 'sqrt', 'model__min_samples_leaf': 10, 'model__min_samples_split': 40, 'smote__sampling_strategy': 0.6}, 0.6893715189275937\n",
    "\n",
    "Stored 'model_SMOTE_cost_sensitive' (list)"
   ],
   "metadata": {
    "id": "x55MXlcLlKme"
   },
   "id": "x55MXlcLlKme"
  },
  {
   "cell_type": "markdown",
   "id": "48831250683d2c88",
   "metadata": {
    "id": "48831250683d2c88"
   },
   "source": [
    "#### Test tables"
   ]
  },
  {
   "cell_type": "code",
   "source": [
    "# Train models\n",
    "best_model = []\n",
    "\n",
    "# ZSN\n",
    "pipeline = Pipeline(steps=[\n",
    "    ('smote', SMOTE(random_state=0, sampling_strategy=0.7)),\n",
    "    ('model', DecisionTreeClassifier(random_state=0, max_depth=9, max_features='sqrt', min_samples_leaf=10, min_samples_split=25, class_weight={0: 1, 1: 4}))\n",
    "])\n",
    "pipeline.fit(X_train[0], y_train[0])\n",
    "best_model.append(pipeline)\n",
    "\n",
    "# FIBR_PREDS\n",
    "pipeline = Pipeline(steps=[\n",
    "    ('smote', SMOTE(random_state=0, sampling_strategy=0.5)),\n",
    "    ('model', DecisionTreeClassifier(random_state=0, max_depth=9, max_features='sqrt', min_samples_leaf=10, min_samples_split=30, class_weight={0: 1, 1: 5}))\n",
    "])\n",
    "pipeline.fit(X_train[1], y_train[1])\n",
    "best_model.append(pipeline)\n",
    "\n",
    "# P_IM_STEN\n",
    "pipeline = Pipeline(steps=[\n",
    "    ('smote', SMOTE(random_state=0, sampling_strategy=0.5)),\n",
    "    ('model', DecisionTreeClassifier(random_state=0, max_depth=5, max_features='sqrt', min_samples_leaf=30, min_samples_split=10, class_weight={0: 1, 1: 4}))\n",
    "])\n",
    "pipeline.fit(X_train[2], y_train[2])\n",
    "best_model.append(pipeline)\n",
    "\n",
    "# REC_IM\n",
    "pipeline = Pipeline(steps=[\n",
    "    ('smote', SMOTE(random_state=0, sampling_strategy=0.5)),\n",
    "    ('model', DecisionTreeClassifier(random_state=0, max_depth=7, max_features='sqrt', min_samples_leaf=10, min_samples_split=10, class_weight={0: 1, 1: 6}))\n",
    "])\n",
    "pipeline.fit(X_train[3], y_train[3])\n",
    "best_model.append(pipeline)\n",
    "\n",
    "# OTEK_LANC\n",
    "pipeline = Pipeline(steps=[\n",
    "    ('smote', SMOTE(random_state=0, sampling_strategy=0.6)),\n",
    "    ('model', DecisionTreeClassifier(random_state=0, max_depth=9, max_features='sqrt', min_samples_leaf=10, min_samples_split=40, class_weight={0: 1, 1: 2}))\n",
    "])\n",
    "pipeline.fit(X_train[4], y_train[4])\n",
    "best_model.append(pipeline)"
   ],
   "metadata": {
    "id": "hc5oaZEtlLzC",
    "ExecuteTime": {
     "end_time": "2024-06-02T02:49:50.957282Z",
     "start_time": "2024-06-02T02:49:50.458236Z"
    }
   },
   "id": "hc5oaZEtlLzC",
   "outputs": [],
   "execution_count": 224
  },
  {
   "cell_type": "code",
   "id": "2d70b0d814b0ce5a",
   "metadata": {
    "id": "2d70b0d814b0ce5a",
    "ExecuteTime": {
     "end_time": "2024-06-02T02:49:51.050488Z",
     "start_time": "2024-06-02T02:49:50.959746Z"
    }
   },
   "source": [
    "# Confusion matrix\n",
    "test_SMOTE_cost_sensitive_conf = {\"Metric\": [\"TN\", \"FP\", \"FN\", \"TP\"]}\n",
    "\n",
    "# Tables\n",
    "test_SMOTE_cost_sensitive = {\"Metric\": [\"Accuracy\", \"Precision\", \"Recall\", \"F1 Score\", \"ROC AUC\"]}\n",
    "\n",
    "for i in range(len(y)):\n",
    "    y_pred = best_model[i].predict(X_test[i])\n",
    "\n",
    "    # Test metrics table\n",
    "    test_SMOTE_cost_sensitive[f\"y{i}\"] = [\n",
    "        accuracy_score(y_test[i], y_pred),\n",
    "        precision_score(y_test[i], y_pred),\n",
    "        recall_score(y_test[i], y_pred),\n",
    "        f1_score(y_test[i], y_pred),\n",
    "        roc_auc_score(y_test[i], y_pred),\n",
    "    ]\n",
    "\n",
    "    # Test confusion matrix showing TP TN FN FP\n",
    "    tn, fp, fn, tp = confusion_matrix(y_test[i], y_pred).ravel()\n",
    "    test_SMOTE_cost_sensitive_conf[f\"y{i}\"] = [tn, fp, fn, tp]\n",
    "\n",
    "# Test\n",
    "test_SMOTE_cost_sensitive = pd.DataFrame(test_SMOTE_cost_sensitive)\n",
    "test_SMOTE_cost_sensitive.columns = [\"Metric\", \"ZSN\", \"FIBR_PREDS\", \"P_IM_STEN\", \"REC_IM\", \"OTEK_LANC\"]\n",
    "\n",
    "# Confusion matrix\n",
    "test_SMOTE_cost_sensitive_conf = pd.DataFrame(test_SMOTE_cost_sensitive_conf)\n",
    "test_SMOTE_cost_sensitive_conf.columns = [\"Metric\", \"ZSN\", \"FIBR_PREDS\", \"P_IM_STEN\", \"REC_IM\", \"OTEK_LANC\"]"
   ],
   "outputs": [],
   "execution_count": 225
  },
  {
   "cell_type": "markdown",
   "id": "20159e95d052e9bf",
   "metadata": {
    "id": "20159e95d052e9bf"
   },
   "source": [
    "#### Learning curve"
   ]
  },
  {
   "cell_type": "code",
   "id": "7a472aebfd23a6a",
   "metadata": {
    "colab": {
     "base_uri": "https://localhost:8080/",
     "height": 1000
    },
    "id": "7a472aebfd23a6a",
    "outputId": "5c29282a-f56f-4590-c621-9ecb441da303",
    "ExecuteTime": {
     "end_time": "2024-06-02T02:49:56.918649Z",
     "start_time": "2024-06-02T02:49:51.056542Z"
    }
   },
   "source": [
    "cv = StratifiedKFold(n_splits=10, shuffle=True, random_state=0)\n",
    "for i in range(len(y)):\n",
    "    # Learning curve graph\n",
    "    train_sizes, train_scores, test_scores = learning_curve(best_model[i], X_train[i], y_train[i], cv=cv, n_jobs=-1, scoring='roc_auc')\n",
    "    train_scores_mean = np.mean(train_scores, axis=1)\n",
    "    test_scores_mean = np.mean(test_scores, axis=1)\n",
    "    plt.plot(train_sizes, train_scores_mean, label='Training Score')\n",
    "    plt.plot(train_sizes, test_scores_mean, label='Cross-Validation Score')\n",
    "    plt.yticks(np.arange(0, 1.1, 0.1))\n",
    "    plt.ylabel('ROC_AUC Score')\n",
    "    plt.xlabel('Training Set Size')\n",
    "    plt.title('Learning Curve - Target y{}'.format(i))\n",
    "    plt.legend()\n",
    "    plt.grid(True)\n",
    "    plt.show()"
   ],
   "outputs": [
    {
     "data": {
      "text/plain": [
       "<Figure size 640x480 with 1 Axes>"
      ],
      "image/png": "[encoded data removed]"
     },
     "metadata": {},
     "output_type": "display_data"
    },
    {
     "data": {
      "text/plain": [
       "<Figure size 640x480 with 1 Axes>"
      ],
      "image/png": "[encoded data removed]"
     },
     "metadata": {},
     "output_type": "display_data"
    },
    {
     "data": {
      "text/plain": [
       "<Figure size 640x480 with 1 Axes>"
      ],
      "image/png": "[encoded data removed]"
     },
     "metadata": {},
     "output_type": "display_data"
    },
    {
     "data": {
      "text/plain": [
       "<Figure size 640x480 with 1 Axes>"
      ],
      "image/png": "[encoded data removed]"
     },
     "metadata": {},
     "output_type": "display_data"
    },
    {
     "data": {
      "text/plain": [
       "<Figure size 640x480 with 1 Axes>"
      ],
      "image/png": "[encoded data removed]"
     },
     "metadata": {},
     "output_type": "display_data"
    }
   ],
   "execution_count": 226
  },
  {
   "cell_type": "markdown",
   "id": "b0de5fea1ca9225a",
   "metadata": {
    "id": "b0de5fea1ca9225a"
   },
   "source": [
    "### Random Forest"
   ]
  },
  {
   "cell_type": "markdown",
   "id": "3a2237daad1b4755",
   "metadata": {
    "id": "3a2237daad1b4755"
   },
   "source": [
    "#### Grid search"
   ]
  },
  {
   "cell_type": "code",
   "id": "7fec6eb9fb4913ca",
   "metadata": {
    "id": "7fec6eb9fb4913ca",
    "ExecuteTime": {
     "end_time": "2024-06-02T02:49:56.926002Z",
     "start_time": "2024-06-02T02:49:56.920660Z"
    }
   },
   "source": [
    "# # Define the pipeline\n",
    "# from sklearn.ensemble import RandomForestClassifier\n",
    "# pipeline = Pipeline(steps=[\n",
    "#     ('smote', SMOTE(random_state=0)),\n",
    "#     ('model', RandomForestClassifier(random_state=0))\n",
    "# ])\n",
    "#\n",
    "# # Define the hyperparameters\n",
    "# param_grid = {\n",
    "#     'smote__sampling_strategy': [0.5, 0.6, 0.7],\n",
    "#     'model__max_depth': [5, 10, 15, 20],\n",
    "#     'model__min_samples_split': [2, 5, 10],\n",
    "#     'model__n_estimators': [5, 10, 15],\n",
    "# }\n",
    "#\n",
    "# # Define the grid search\n",
    "# grid_search = GridSearchCV(pipeline, param_grid, cv=5, scoring='f1')\n",
    "#\n",
    "# # Train the model for all target variables and print the results as a table. A table includes several rows representing each of a metrics for imbalanced data. Each colummn represents each target variable.\n",
    "# results_random_forest = {\"Metric\": [\"Accuracy\", \"Precision\", \"Recall\", \"F1 Score\", \"ROC AUC\", \"G mean\"]}\n",
    "# for i in range(len(y)):\n",
    "#     pipeline.set_params(model__class_weight=weights[i])\n",
    "#     grid_search.fit(X_train[i], y_train[i])\n",
    "#     y_pred = grid_search.predict(X_val[i])\n",
    "#     results_random_forest[f\"y{i}\"] = [\n",
    "#         accuracy_score(y_val[i], y_pred),\n",
    "#         precision_score(y_val[i], y_pred),\n",
    "#         recall_score(y_val[i], y_pred),\n",
    "#         f1_score(y_val[i], y_pred),\n",
    "#         roc_auc_score(y_val[i], y_pred),\n",
    "#         geometric_mean_score(y_val[i], y_pred)\n",
    "#     ]\n",
    "#     print(\"========================================\") # print the best hyperparameters for the current target\n",
    "#     print(f\"Hyperparameters for y{i}\")\n",
    "#     for name, param in grid_search.best_estimator_.get_params().items():\n",
    "#         print(f\"{name}: {param}\")\n",
    "#\n",
    "# results_random_forest = pd.DataFrame(results_random_forest)\n",
    "#\n",
    "# # Change y0,y1,y2,y3,y4 to ZSN, FIBR_PREDS, P_IM_STEN, REC_IM, OTEK_LANC\n",
    "# results_random_forest.columns = [\"Metric\", \"ZSN\", \"FIBR_PREDS\", \"P_IM_STEN\", \"REC_IM\", \"OTEK_LANC\"]\n",
    "#\n",
    "# results_random_forest"
   ],
   "outputs": [],
   "execution_count": 227
  },
  {
   "cell_type": "markdown",
   "id": "7732e73cbaafb7a5",
   "metadata": {
    "id": "7732e73cbaafb7a5"
   },
   "source": [
    "#### Test tables"
   ]
  },
  {
   "cell_type": "code",
   "source": [],
   "metadata": {
    "id": "t_2URBVDxA4l",
    "ExecuteTime": {
     "end_time": "2024-06-02T02:49:56.932253Z",
     "start_time": "2024-06-02T02:49:56.929011Z"
    }
   },
   "id": "t_2URBVDxA4l",
   "outputs": [],
   "execution_count": 227
  },
  {
   "cell_type": "code",
   "source": [
    "%%script false --no-raise-error\n",
    "# Confusion matrix\n",
    "test_RF_conf = {\"Metric\": [\"TN\", \"FP\", \"FN\", \"TP\"]}\n",
    "\n",
    "# Tables\n",
    "test_RF = {\"Metric\": [\"Accuracy\", \"Precision\", \"Recall\", \"F1 Score\", \"ROC AUC\"]}\n",
    "\n",
    "for i in range(len(y)):\n",
    "    y_pred = best_model[i].predict(X_test[i])\n",
    "\n",
    "    # Test metrics table\n",
    "    test_RF[f\"y{i}\"] = [\n",
    "        accuracy_score(y_test[i], y_pred),\n",
    "        precision_score(y_test[i], y_pred),\n",
    "        recall_score(y_test[i], y_pred),\n",
    "        f1_score(y_test[i], y_pred),\n",
    "        roc_auc_score(y_test[i], y_pred),\n",
    "    ]\n",
    "\n",
    "    # Test confusion matrix showing TP TN FN FP\n",
    "    tn, fp, fn, tp = confusion_matrix(y_test[i], y_pred).ravel()\n",
    "    test_RF_conf[f\"y{i}\"] = [tn, fp, fn, tp]\n",
    "\n",
    "# Test\n",
    "test_RF = pd.DataFrame(test_RF)\n",
    "test_RF.columns = [\"Metric\", \"ZSN\", \"FIBR_PREDS\", \"P_IM_STEN\", \"REC_IM\", \"OTEK_LANC\"]\n",
    "\n",
    "# Confusion matrix\n",
    "test_RF_conf = pd.DataFrame(test_RF_conf)\n",
    "test_RF_conf.columns = [\"Metric\", \"ZSN\", \"FIBR_PREDS\", \"P_IM_STEN\", \"REC_IM\", \"OTEK_LANC\"]"
   ],
   "metadata": {
    "id": "SKPMtub6xGo0",
    "ExecuteTime": {
     "end_time": "2024-06-02T02:49:56.945965Z",
     "start_time": "2024-06-02T02:49:56.935271Z"
    }
   },
   "id": "SKPMtub6xGo0",
   "outputs": [
    {
     "name": "stdout",
     "output_type": "stream",
     "text": [
      "Couldn't find program: 'false'\n"
     ]
    }
   ],
   "execution_count": 228
  },
  {
   "cell_type": "markdown",
   "id": "f70eeeadee7386c3",
   "metadata": {
    "id": "f70eeeadee7386c3"
   },
   "source": [
    "#### Learning curve"
   ]
  },
  {
   "cell_type": "code",
   "source": [
    "%%script false --no-raise-error\n",
    "for i in range(len(y)):\n",
    "    # Learning curve graph\n",
    "    train_sizes, train_scores, test_scores = learning_curve(best_model[i], X_train[i], y_train[i], cv=cv, n_jobs=-1, scoring='roc_auc')\n",
    "    train_scores_mean = np.mean(train_scores, axis=1)\n",
    "    test_scores_mean = np.mean(test_scores, axis=1)\n",
    "    plt.plot(train_sizes, train_scores_mean, label='Training Score')\n",
    "    plt.plot(train_sizes, test_scores_mean, label='Cross-Validation Score')\n",
    "    plt.ylabel('ROC_AUC Score')\n",
    "    plt.xlabel('Training Set Size')\n",
    "    plt.title('Learning Curve - Target y{}'.format(i))\n",
    "    plt.legend()\n",
    "    plt.grid(True)\n",
    "    plt.show()"
   ],
   "metadata": {
    "id": "UXRtwNU2xFuN",
    "ExecuteTime": {
     "end_time": "2024-06-02T02:49:56.957800Z",
     "start_time": "2024-06-02T02:49:56.948972Z"
    }
   },
   "id": "UXRtwNU2xFuN",
   "outputs": [
    {
     "name": "stdout",
     "output_type": "stream",
     "text": [
      "Couldn't find program: 'false'\n"
     ]
    }
   ],
   "execution_count": 229
  },
  {
   "cell_type": "markdown",
   "id": "37ba071bdd00fb25",
   "metadata": {
    "id": "37ba071bdd00fb25"
   },
   "source": [
    "## 6. Model Evaluation"
   ]
  },
  {
   "cell_type": "markdown",
   "id": "d39c945b186db677",
   "metadata": {
    "id": "d39c945b186db677"
   },
   "source": [
    "### ZSN"
   ]
  },
  {
   "cell_type": "code",
   "id": "c521b45d0219f8a8",
   "metadata": {
    "colab": {
     "base_uri": "https://localhost:8080/",
     "height": 206
    },
    "id": "c521b45d0219f8a8",
    "outputId": "2a0b00ce-b6ea-4b89-ae8a-87237a97a3f9",
    "ExecuteTime": {
     "end_time": "2024-06-02T02:49:56.976980Z",
     "start_time": "2024-06-02T02:49:56.962864Z"
    }
   },
   "source": [
    "# Decision Tree: SMOTE\n",
    "test_zsn = {\"Metric\": [\"Accuracy\", \"Precision\", \"Recall\", \"F1 Score\", \"ROC AUC\"],\n",
    "               \"Decision Tree: SMOTE\": test_SMOTE_balanced[\"ZSN\"],\n",
    "               \"Decision Tree: Cost-sensitive\": test_cost_sensitive[\"ZSN\"],\n",
    "               \"Decision Tree: SMOTE + Cost-sensitive\": test_SMOTE_cost_sensitive[\"ZSN\"]}\n",
    "test_zsn = pd.DataFrame(test_zsn)\n",
    "test_zsn.columns = [\"Metric\", \"Decision Tree: SMOTE\", \"Decision Tree: Cost-sensitive\", \"Decision Tree: SMOTE + Cost-sensitive\"]\n",
    "\n",
    "test_zsn"
   ],
   "outputs": [
    {
     "data": {
      "text/plain": [
       "      Metric  Decision Tree: SMOTE  Decision Tree: Cost-sensitive  \\\n",
       "0   Accuracy              0.598039                       0.600000   \n",
       "1  Precision              0.274611                       0.280612   \n",
       "2     Recall              0.449153                       0.466102   \n",
       "3   F1 Score              0.340836                       0.350318   \n",
       "4    ROC AUC              0.546005                       0.553204   \n",
       "\n",
       "   Decision Tree: SMOTE + Cost-sensitive  \n",
       "0                               0.464706  \n",
       "1                               0.270030  \n",
       "2                               0.771186  \n",
       "3                               0.400000  \n",
       "4                               0.571818  "
      ],
      "text/html": [
       "<div>\n",
       "<style scoped>\n",
       "    .dataframe tbody tr th:only-of-type {\n",
       "        vertical-align: middle;\n",
       "    }\n",
       "\n",
       "    .dataframe tbody tr th {\n",
       "        vertical-align: top;\n",
       "    }\n",
       "\n",
       "    .dataframe thead th {\n",
       "        text-align: right;\n",
       "    }\n",
       "</style>\n",
       "<table border=\"1\" class=\"dataframe\">\n",
       "  <thead>\n",
       "    <tr style=\"text-align: right;\">\n",
       "      <th></th>\n",
       "      <th>Metric</th>\n",
       "      <th>Decision Tree: SMOTE</th>\n",
       "      <th>Decision Tree: Cost-sensitive</th>\n",
       "      <th>Decision Tree: SMOTE + Cost-sensitive</th>\n",
       "    </tr>\n",
       "  </thead>\n",
       "  <tbody>\n",
       "    <tr>\n",
       "      <th>0</th>\n",
       "      <td>Accuracy</td>\n",
       "      <td>0.598039</td>\n",
       "      <td>0.600000</td>\n",
       "      <td>0.464706</td>\n",
       "    </tr>\n",
       "    <tr>\n",
       "      <th>1</th>\n",
       "      <td>Precision</td>\n",
       "      <td>0.274611</td>\n",
       "      <td>0.280612</td>\n",
       "      <td>0.270030</td>\n",
       "    </tr>\n",
       "    <tr>\n",
       "      <th>2</th>\n",
       "      <td>Recall</td>\n",
       "      <td>0.449153</td>\n",
       "      <td>0.466102</td>\n",
       "      <td>0.771186</td>\n",
       "    </tr>\n",
       "    <tr>\n",
       "      <th>3</th>\n",
       "      <td>F1 Score</td>\n",
       "      <td>0.340836</td>\n",
       "      <td>0.350318</td>\n",
       "      <td>0.400000</td>\n",
       "    </tr>\n",
       "    <tr>\n",
       "      <th>4</th>\n",
       "      <td>ROC AUC</td>\n",
       "      <td>0.546005</td>\n",
       "      <td>0.553204</td>\n",
       "      <td>0.571818</td>\n",
       "    </tr>\n",
       "  </tbody>\n",
       "</table>\n",
       "</div>"
      ]
     },
     "execution_count": 230,
     "metadata": {},
     "output_type": "execute_result"
    }
   ],
   "execution_count": 230
  },
  {
   "cell_type": "code",
   "id": "55f21eb0f92a7ef8",
   "metadata": {
    "colab": {
     "base_uri": "https://localhost:8080/"
    },
    "id": "55f21eb0f92a7ef8",
    "outputId": "df28e92f-4a8c-4479-c9c1-2cd5e1bf6b92",
    "ExecuteTime": {
     "end_time": "2024-06-02T02:49:56.988113Z",
     "start_time": "2024-06-02T02:49:56.978989Z"
    }
   },
   "source": [
    "# Confusion matrix\n",
    "test_SMOTE_balanced_conf[\"ZSN\"]"
   ],
   "outputs": [
    {
     "data": {
      "text/plain": [
       "0    252\n",
       "1    140\n",
       "2     65\n",
       "3     53\n",
       "Name: ZSN, dtype: int64"
      ]
     },
     "execution_count": 231,
     "metadata": {},
     "output_type": "execute_result"
    }
   ],
   "execution_count": 231
  },
  {
   "cell_type": "code",
   "id": "e4ee4381005e5ef9",
   "metadata": {
    "colab": {
     "base_uri": "https://localhost:8080/"
    },
    "id": "e4ee4381005e5ef9",
    "outputId": "8a2c4b16-a598-42ca-96a7-10b730de4451",
    "ExecuteTime": {
     "end_time": "2024-06-02T02:49:56.999228Z",
     "start_time": "2024-06-02T02:49:56.990119Z"
    }
   },
   "source": [
    "test_cost_sensitive_conf[\"ZSN\"]"
   ],
   "outputs": [
    {
     "data": {
      "text/plain": [
       "0    251\n",
       "1    141\n",
       "2     63\n",
       "3     55\n",
       "Name: ZSN, dtype: int64"
      ]
     },
     "execution_count": 232,
     "metadata": {},
     "output_type": "execute_result"
    }
   ],
   "execution_count": 232
  },
  {
   "cell_type": "code",
   "id": "af2f4cf7b9714d12",
   "metadata": {
    "colab": {
     "base_uri": "https://localhost:8080/"
    },
    "id": "af2f4cf7b9714d12",
    "outputId": "be008b9d-4c6e-43f4-ebce-9c0aceb197da",
    "ExecuteTime": {
     "end_time": "2024-06-02T02:49:57.011198Z",
     "start_time": "2024-06-02T02:49:57.002238Z"
    }
   },
   "source": [
    "test_SMOTE_cost_sensitive_conf[\"ZSN\"]"
   ],
   "outputs": [
    {
     "data": {
      "text/plain": [
       "0    146\n",
       "1    246\n",
       "2     27\n",
       "3     91\n",
       "Name: ZSN, dtype: int64"
      ]
     },
     "execution_count": 233,
     "metadata": {},
     "output_type": "execute_result"
    }
   ],
   "execution_count": 233
  },
  {
   "cell_type": "markdown",
   "id": "1ab0c59472ef579d",
   "metadata": {
    "id": "1ab0c59472ef579d"
   },
   "source": [
    "### FIBR_PREDS"
   ]
  },
  {
   "cell_type": "code",
   "id": "5585b00ec69f7475",
   "metadata": {
    "colab": {
     "base_uri": "https://localhost:8080/",
     "height": 206
    },
    "id": "5585b00ec69f7475",
    "outputId": "aaff4e7e-e57b-43cb-c46c-d449704eed85",
    "ExecuteTime": {
     "end_time": "2024-06-02T02:49:57.028621Z",
     "start_time": "2024-06-02T02:49:57.014214Z"
    }
   },
   "source": [
    "test_fibr_preds = {\"Metric\": [\"Accuracy\", \"Precision\", \"Recall\", \"F1 Score\", \"ROC AUC\"],\n",
    "                    \"Decision Tree: SMOTE\": test_SMOTE_balanced[\"FIBR_PREDS\"],\n",
    "                    \"Decision Tree: Cost-sensitive\": test_cost_sensitive[\"FIBR_PREDS\"],\n",
    "                    \"Decision Tree: SMOTE + Cost-sensitive\": test_SMOTE_cost_sensitive[\"FIBR_PREDS\"]}\n",
    "test_fibr_preds = pd.DataFrame(test_fibr_preds)\n",
    "test_fibr_preds.columns = [\"Metric\", \"Decision Tree: SMOTE\", \"Decision Tree: Cost-sensitive\", \"Decision Tree: SMOTE + Cost-sensitive\"]\n",
    "\n",
    "test_fibr_preds"
   ],
   "outputs": [
    {
     "data": {
      "text/plain": [
       "      Metric  Decision Tree: SMOTE  Decision Tree: Cost-sensitive  \\\n",
       "0   Accuracy              0.652941                       0.605882   \n",
       "1  Precision              0.101266                       0.132353   \n",
       "2     Recall              0.313725                       0.529412   \n",
       "3   F1 Score              0.153110                       0.211765   \n",
       "4    ROC AUC              0.502179                       0.571895   \n",
       "\n",
       "   Decision Tree: SMOTE + Cost-sensitive  \n",
       "0                               0.562745  \n",
       "1                               0.135593  \n",
       "2                               0.627451  \n",
       "3                               0.222997  \n",
       "4                               0.591503  "
      ],
      "text/html": [
       "<div>\n",
       "<style scoped>\n",
       "    .dataframe tbody tr th:only-of-type {\n",
       "        vertical-align: middle;\n",
       "    }\n",
       "\n",
       "    .dataframe tbody tr th {\n",
       "        vertical-align: top;\n",
       "    }\n",
       "\n",
       "    .dataframe thead th {\n",
       "        text-align: right;\n",
       "    }\n",
       "</style>\n",
       "<table border=\"1\" class=\"dataframe\">\n",
       "  <thead>\n",
       "    <tr style=\"text-align: right;\">\n",
       "      <th></th>\n",
       "      <th>Metric</th>\n",
       "      <th>Decision Tree: SMOTE</th>\n",
       "      <th>Decision Tree: Cost-sensitive</th>\n",
       "      <th>Decision Tree: SMOTE + Cost-sensitive</th>\n",
       "    </tr>\n",
       "  </thead>\n",
       "  <tbody>\n",
       "    <tr>\n",
       "      <th>0</th>\n",
       "      <td>Accuracy</td>\n",
       "      <td>0.652941</td>\n",
       "      <td>0.605882</td>\n",
       "      <td>0.562745</td>\n",
       "    </tr>\n",
       "    <tr>\n",
       "      <th>1</th>\n",
       "      <td>Precision</td>\n",
       "      <td>0.101266</td>\n",
       "      <td>0.132353</td>\n",
       "      <td>0.135593</td>\n",
       "    </tr>\n",
       "    <tr>\n",
       "      <th>2</th>\n",
       "      <td>Recall</td>\n",
       "      <td>0.313725</td>\n",
       "      <td>0.529412</td>\n",
       "      <td>0.627451</td>\n",
       "    </tr>\n",
       "    <tr>\n",
       "      <th>3</th>\n",
       "      <td>F1 Score</td>\n",
       "      <td>0.153110</td>\n",
       "      <td>0.211765</td>\n",
       "      <td>0.222997</td>\n",
       "    </tr>\n",
       "    <tr>\n",
       "      <th>4</th>\n",
       "      <td>ROC AUC</td>\n",
       "      <td>0.502179</td>\n",
       "      <td>0.571895</td>\n",
       "      <td>0.591503</td>\n",
       "    </tr>\n",
       "  </tbody>\n",
       "</table>\n",
       "</div>"
      ]
     },
     "execution_count": 234,
     "metadata": {},
     "output_type": "execute_result"
    }
   ],
   "execution_count": 234
  },
  {
   "cell_type": "code",
   "id": "18f721c03a122c90",
   "metadata": {
    "colab": {
     "base_uri": "https://localhost:8080/"
    },
    "id": "18f721c03a122c90",
    "outputId": "53b183ed-84b3-4697-c6a7-45b9dc071ea6",
    "ExecuteTime": {
     "end_time": "2024-06-02T02:49:57.038768Z",
     "start_time": "2024-06-02T02:49:57.030629Z"
    }
   },
   "source": [
    "# Confusion matrix\n",
    "test_SMOTE_balanced_conf[\"FIBR_PREDS\"]"
   ],
   "outputs": [
    {
     "data": {
      "text/plain": [
       "0    317\n",
       "1    142\n",
       "2     35\n",
       "3     16\n",
       "Name: FIBR_PREDS, dtype: int64"
      ]
     },
     "execution_count": 235,
     "metadata": {},
     "output_type": "execute_result"
    }
   ],
   "execution_count": 235
  },
  {
   "cell_type": "code",
   "id": "3edb3eb7577d6cf8",
   "metadata": {
    "colab": {
     "base_uri": "https://localhost:8080/"
    },
    "id": "3edb3eb7577d6cf8",
    "outputId": "a11ae816-6cc1-4bd3-9e76-57874ea5263c",
    "ExecuteTime": {
     "end_time": "2024-06-02T02:49:57.049638Z",
     "start_time": "2024-06-02T02:49:57.040775Z"
    }
   },
   "source": [
    "test_cost_sensitive_conf[\"FIBR_PREDS\"]"
   ],
   "outputs": [
    {
     "data": {
      "text/plain": [
       "0    282\n",
       "1    177\n",
       "2     24\n",
       "3     27\n",
       "Name: FIBR_PREDS, dtype: int64"
      ]
     },
     "execution_count": 236,
     "metadata": {},
     "output_type": "execute_result"
    }
   ],
   "execution_count": 236
  },
  {
   "cell_type": "code",
   "id": "57d4c6f2f5680d8a",
   "metadata": {
    "colab": {
     "base_uri": "https://localhost:8080/"
    },
    "id": "57d4c6f2f5680d8a",
    "outputId": "4e3fcb02-03d9-46db-e27c-c74e2fc207b0",
    "ExecuteTime": {
     "end_time": "2024-06-02T02:49:57.060848Z",
     "start_time": "2024-06-02T02:49:57.051659Z"
    }
   },
   "source": [
    "test_SMOTE_cost_sensitive_conf[\"FIBR_PREDS\"]"
   ],
   "outputs": [
    {
     "data": {
      "text/plain": [
       "0    255\n",
       "1    204\n",
       "2     19\n",
       "3     32\n",
       "Name: FIBR_PREDS, dtype: int64"
      ]
     },
     "execution_count": 237,
     "metadata": {},
     "output_type": "execute_result"
    }
   ],
   "execution_count": 237
  },
  {
   "cell_type": "markdown",
   "id": "3494fbb8f5d27987",
   "metadata": {
    "id": "3494fbb8f5d27987"
   },
   "source": [
    "### P_IM_STEN"
   ]
  },
  {
   "cell_type": "code",
   "id": "bfe6e355dacb37da",
   "metadata": {
    "colab": {
     "base_uri": "https://localhost:8080/",
     "height": 206
    },
    "id": "bfe6e355dacb37da",
    "outputId": "84817288-bb06-4831-94a8-91ad8362bce4",
    "ExecuteTime": {
     "end_time": "2024-06-02T02:49:57.077100Z",
     "start_time": "2024-06-02T02:49:57.062863Z"
    }
   },
   "source": [
    "test_p_im_sten = {\"Metric\": [\"Accuracy\", \"Precision\", \"Recall\", \"F1 Score\", \"ROC AUC\"],\n",
    "                    \"Decision Tree: SMOTE\": test_SMOTE_balanced[\"P_IM_STEN\"],\n",
    "                    \"Decision Tree: Cost-sensitive\": test_cost_sensitive[\"P_IM_STEN\"],\n",
    "                    \"Decision Tree: SMOTE + Cost-sensitive\": test_SMOTE_cost_sensitive[\"P_IM_STEN\"]}\n",
    "test_p_im_sten = pd.DataFrame(test_p_im_sten)\n",
    "test_p_im_sten.columns = [\"Metric\", \"Decision Tree: SMOTE\", \"Decision Tree: Cost-sensitive\", \"Decision Tree: SMOTE + Cost-sensitive\"]\n",
    "\n",
    "test_p_im_sten"
   ],
   "outputs": [
    {
     "data": {
      "text/plain": [
       "      Metric  Decision Tree: SMOTE  Decision Tree: Cost-sensitive  \\\n",
       "0   Accuracy              0.678431                       0.431373   \n",
       "1  Precision              0.125000                       0.110759   \n",
       "2     Recall              0.454545                       0.795455   \n",
       "3   F1 Score              0.196078                       0.194444   \n",
       "4    ROC AUC              0.577058                       0.596225   \n",
       "\n",
       "   Decision Tree: SMOTE + Cost-sensitive  \n",
       "0                               0.554902  \n",
       "1                               0.107296  \n",
       "2                               0.568182  \n",
       "3                               0.180505  \n",
       "4                               0.560915  "
      ],
      "text/html": [
       "<div>\n",
       "<style scoped>\n",
       "    .dataframe tbody tr th:only-of-type {\n",
       "        vertical-align: middle;\n",
       "    }\n",
       "\n",
       "    .dataframe tbody tr th {\n",
       "        vertical-align: top;\n",
       "    }\n",
       "\n",
       "    .dataframe thead th {\n",
       "        text-align: right;\n",
       "    }\n",
       "</style>\n",
       "<table border=\"1\" class=\"dataframe\">\n",
       "  <thead>\n",
       "    <tr style=\"text-align: right;\">\n",
       "      <th></th>\n",
       "      <th>Metric</th>\n",
       "      <th>Decision Tree: SMOTE</th>\n",
       "      <th>Decision Tree: Cost-sensitive</th>\n",
       "      <th>Decision Tree: SMOTE + Cost-sensitive</th>\n",
       "    </tr>\n",
       "  </thead>\n",
       "  <tbody>\n",
       "    <tr>\n",
       "      <th>0</th>\n",
       "      <td>Accuracy</td>\n",
       "      <td>0.678431</td>\n",
       "      <td>0.431373</td>\n",
       "      <td>0.554902</td>\n",
       "    </tr>\n",
       "    <tr>\n",
       "      <th>1</th>\n",
       "      <td>Precision</td>\n",
       "      <td>0.125000</td>\n",
       "      <td>0.110759</td>\n",
       "      <td>0.107296</td>\n",
       "    </tr>\n",
       "    <tr>\n",
       "      <th>2</th>\n",
       "      <td>Recall</td>\n",
       "      <td>0.454545</td>\n",
       "      <td>0.795455</td>\n",
       "      <td>0.568182</td>\n",
       "    </tr>\n",
       "    <tr>\n",
       "      <th>3</th>\n",
       "      <td>F1 Score</td>\n",
       "      <td>0.196078</td>\n",
       "      <td>0.194444</td>\n",
       "      <td>0.180505</td>\n",
       "    </tr>\n",
       "    <tr>\n",
       "      <th>4</th>\n",
       "      <td>ROC AUC</td>\n",
       "      <td>0.577058</td>\n",
       "      <td>0.596225</td>\n",
       "      <td>0.560915</td>\n",
       "    </tr>\n",
       "  </tbody>\n",
       "</table>\n",
       "</div>"
      ]
     },
     "execution_count": 238,
     "metadata": {},
     "output_type": "execute_result"
    }
   ],
   "execution_count": 238
  },
  {
   "cell_type": "code",
   "id": "81b914e150c0fc18",
   "metadata": {
    "colab": {
     "base_uri": "https://localhost:8080/"
    },
    "id": "81b914e150c0fc18",
    "outputId": "02245759-a41b-45f8-8959-409b482fb8d6",
    "ExecuteTime": {
     "end_time": "2024-06-02T02:49:57.087867Z",
     "start_time": "2024-06-02T02:49:57.079109Z"
    }
   },
   "source": [
    "# Confusion matrix\n",
    "test_SMOTE_balanced_conf[\"P_IM_STEN\"]"
   ],
   "outputs": [
    {
     "data": {
      "text/plain": [
       "0    326\n",
       "1    140\n",
       "2     24\n",
       "3     20\n",
       "Name: P_IM_STEN, dtype: int64"
      ]
     },
     "execution_count": 239,
     "metadata": {},
     "output_type": "execute_result"
    }
   ],
   "execution_count": 239
  },
  {
   "cell_type": "code",
   "id": "d9c7fc342d1dddef",
   "metadata": {
    "colab": {
     "base_uri": "https://localhost:8080/"
    },
    "id": "d9c7fc342d1dddef",
    "outputId": "d738f053-ee36-42c5-fa42-74007978a824",
    "ExecuteTime": {
     "end_time": "2024-06-02T02:49:57.099739Z",
     "start_time": "2024-06-02T02:49:57.090878Z"
    }
   },
   "source": [
    "test_cost_sensitive_conf[\"P_IM_STEN\"]"
   ],
   "outputs": [
    {
     "data": {
      "text/plain": [
       "0    185\n",
       "1    281\n",
       "2      9\n",
       "3     35\n",
       "Name: P_IM_STEN, dtype: int64"
      ]
     },
     "execution_count": 240,
     "metadata": {},
     "output_type": "execute_result"
    }
   ],
   "execution_count": 240
  },
  {
   "cell_type": "code",
   "id": "21e614a1d6ec236d",
   "metadata": {
    "colab": {
     "base_uri": "https://localhost:8080/"
    },
    "id": "21e614a1d6ec236d",
    "outputId": "6e16af3d-2f23-4526-8d8f-2bb3ed6161fc",
    "ExecuteTime": {
     "end_time": "2024-06-02T02:49:57.113531Z",
     "start_time": "2024-06-02T02:49:57.102749Z"
    }
   },
   "source": [
    "test_SMOTE_cost_sensitive_conf[\"P_IM_STEN\"]"
   ],
   "outputs": [
    {
     "data": {
      "text/plain": [
       "0    258\n",
       "1    208\n",
       "2     19\n",
       "3     25\n",
       "Name: P_IM_STEN, dtype: int64"
      ]
     },
     "execution_count": 241,
     "metadata": {},
     "output_type": "execute_result"
    }
   ],
   "execution_count": 241
  },
  {
   "cell_type": "markdown",
   "id": "ec3519ab214422a",
   "metadata": {
    "id": "ec3519ab214422a"
   },
   "source": [
    "### REC_IM"
   ]
  },
  {
   "cell_type": "code",
   "id": "8d794108112bc35e",
   "metadata": {
    "colab": {
     "base_uri": "https://localhost:8080/",
     "height": 206
    },
    "id": "8d794108112bc35e",
    "outputId": "11f696ee-7c6e-4833-e966-776f8eae7fa4",
    "ExecuteTime": {
     "end_time": "2024-06-02T02:49:57.132973Z",
     "start_time": "2024-06-02T02:49:57.116540Z"
    }
   },
   "source": [
    "test_rec_im = {\"Metric\": [\"Accuracy\", \"Precision\", \"Recall\", \"F1 Score\", \"ROC AUC\"],\n",
    "                    \"Decision Tree: SMOTE\": test_SMOTE_balanced[\"REC_IM\"],\n",
    "                    \"Decision Tree: Cost-sensitive\": test_cost_sensitive[\"REC_IM\"],\n",
    "                    \"Decision Tree: SMOTE + Cost-sensitive\": test_SMOTE_cost_sensitive[\"REC_IM\"]}\n",
    "test_rec_im = pd.DataFrame(test_rec_im)\n",
    "test_rec_im.columns = [\"Metric\", \"Decision Tree: SMOTE\", \"Decision Tree: Cost-sensitive\", \"Decision Tree: SMOTE + Cost-sensitive\"]\n",
    "\n",
    "test_rec_im"
   ],
   "outputs": [
    {
     "data": {
      "text/plain": [
       "      Metric  Decision Tree: SMOTE  Decision Tree: Cost-sensitive  \\\n",
       "0   Accuracy              0.666667                       0.531373   \n",
       "1  Precision              0.145349                       0.134100   \n",
       "2     Recall              0.520833                       0.729167   \n",
       "3   F1 Score              0.227273                       0.226537   \n",
       "4    ROC AUC              0.601326                       0.619995   \n",
       "\n",
       "   Decision Tree: SMOTE + Cost-sensitive  \n",
       "0                               0.345098  \n",
       "1                               0.093750  \n",
       "2                               0.687500  \n",
       "3                               0.165000  \n",
       "4                               0.498512  "
      ],
      "text/html": [
       "<div>\n",
       "<style scoped>\n",
       "    .dataframe tbody tr th:only-of-type {\n",
       "        vertical-align: middle;\n",
       "    }\n",
       "\n",
       "    .dataframe tbody tr th {\n",
       "        vertical-align: top;\n",
       "    }\n",
       "\n",
       "    .dataframe thead th {\n",
       "        text-align: right;\n",
       "    }\n",
       "</style>\n",
       "<table border=\"1\" class=\"dataframe\">\n",
       "  <thead>\n",
       "    <tr style=\"text-align: right;\">\n",
       "      <th></th>\n",
       "      <th>Metric</th>\n",
       "      <th>Decision Tree: SMOTE</th>\n",
       "      <th>Decision Tree: Cost-sensitive</th>\n",
       "      <th>Decision Tree: SMOTE + Cost-sensitive</th>\n",
       "    </tr>\n",
       "  </thead>\n",
       "  <tbody>\n",
       "    <tr>\n",
       "      <th>0</th>\n",
       "      <td>Accuracy</td>\n",
       "      <td>0.666667</td>\n",
       "      <td>0.531373</td>\n",
       "      <td>0.345098</td>\n",
       "    </tr>\n",
       "    <tr>\n",
       "      <th>1</th>\n",
       "      <td>Precision</td>\n",
       "      <td>0.145349</td>\n",
       "      <td>0.134100</td>\n",
       "      <td>0.093750</td>\n",
       "    </tr>\n",
       "    <tr>\n",
       "      <th>2</th>\n",
       "      <td>Recall</td>\n",
       "      <td>0.520833</td>\n",
       "      <td>0.729167</td>\n",
       "      <td>0.687500</td>\n",
       "    </tr>\n",
       "    <tr>\n",
       "      <th>3</th>\n",
       "      <td>F1 Score</td>\n",
       "      <td>0.227273</td>\n",
       "      <td>0.226537</td>\n",
       "      <td>0.165000</td>\n",
       "    </tr>\n",
       "    <tr>\n",
       "      <th>4</th>\n",
       "      <td>ROC AUC</td>\n",
       "      <td>0.601326</td>\n",
       "      <td>0.619995</td>\n",
       "      <td>0.498512</td>\n",
       "    </tr>\n",
       "  </tbody>\n",
       "</table>\n",
       "</div>"
      ]
     },
     "execution_count": 242,
     "metadata": {},
     "output_type": "execute_result"
    }
   ],
   "execution_count": 242
  },
  {
   "cell_type": "code",
   "id": "c76fb6a9da6db3ab",
   "metadata": {
    "colab": {
     "base_uri": "https://localhost:8080/"
    },
    "id": "c76fb6a9da6db3ab",
    "outputId": "4ed12984-1528-49c2-9b3f-8e4e59803804",
    "ExecuteTime": {
     "end_time": "2024-06-02T02:49:57.146016Z",
     "start_time": "2024-06-02T02:49:57.135983Z"
    }
   },
   "source": [
    "# Confusion matrix\n",
    "test_SMOTE_balanced_conf[\"REC_IM\"]"
   ],
   "outputs": [
    {
     "data": {
      "text/plain": [
       "0    315\n",
       "1    147\n",
       "2     23\n",
       "3     25\n",
       "Name: REC_IM, dtype: int64"
      ]
     },
     "execution_count": 243,
     "metadata": {},
     "output_type": "execute_result"
    }
   ],
   "execution_count": 243
  },
  {
   "cell_type": "code",
   "id": "ae95c3c7623df2ee",
   "metadata": {
    "colab": {
     "base_uri": "https://localhost:8080/"
    },
    "id": "ae95c3c7623df2ee",
    "outputId": "c67d2406-3335-4e6a-83ba-c89df457a6bc",
    "ExecuteTime": {
     "end_time": "2024-06-02T02:49:57.156994Z",
     "start_time": "2024-06-02T02:49:57.148025Z"
    }
   },
   "source": [
    "test_cost_sensitive_conf[\"REC_IM\"]"
   ],
   "outputs": [
    {
     "data": {
      "text/plain": [
       "0    236\n",
       "1    226\n",
       "2     13\n",
       "3     35\n",
       "Name: REC_IM, dtype: int64"
      ]
     },
     "execution_count": 244,
     "metadata": {},
     "output_type": "execute_result"
    }
   ],
   "execution_count": 244
  },
  {
   "cell_type": "code",
   "id": "45ef8a2712cf2b85",
   "metadata": {
    "colab": {
     "base_uri": "https://localhost:8080/"
    },
    "id": "45ef8a2712cf2b85",
    "outputId": "d87be929-b5b1-4644-9dc6-f83e24c3de5a",
    "ExecuteTime": {
     "end_time": "2024-06-02T02:49:57.170065Z",
     "start_time": "2024-06-02T02:49:57.160003Z"
    }
   },
   "source": [
    "test_SMOTE_cost_sensitive_conf[\"REC_IM\"]"
   ],
   "outputs": [
    {
     "data": {
      "text/plain": [
       "0    143\n",
       "1    319\n",
       "2     15\n",
       "3     33\n",
       "Name: REC_IM, dtype: int64"
      ]
     },
     "execution_count": 245,
     "metadata": {},
     "output_type": "execute_result"
    }
   ],
   "execution_count": 245
  },
  {
   "cell_type": "markdown",
   "id": "40a5edb0fdcd7790",
   "metadata": {
    "id": "40a5edb0fdcd7790"
   },
   "source": [
    "### OTEK_LANC"
   ]
  },
  {
   "cell_type": "code",
   "id": "41c6f1be03b7e06f",
   "metadata": {
    "colab": {
     "base_uri": "https://localhost:8080/",
     "height": 206
    },
    "id": "41c6f1be03b7e06f",
    "outputId": "2aefd086-661f-4ebc-d44f-acbe03c02064",
    "ExecuteTime": {
     "end_time": "2024-06-02T02:49:57.190951Z",
     "start_time": "2024-06-02T02:49:57.173070Z"
    }
   },
   "source": [
    "test_otek_lanc = {\"Metric\": [\"Accuracy\", \"Precision\", \"Recall\", \"F1 Score\", \"ROC AUC\"],\n",
    "                    \"Decision Tree: SMOTE\": test_SMOTE_balanced[\"OTEK_LANC\"],\n",
    "                    \"Decision Tree: Cost-sensitive\": test_cost_sensitive[\"OTEK_LANC\"],\n",
    "                    \"Decision Tree: SMOTE + Cost-sensitive\": test_SMOTE_cost_sensitive[\"OTEK_LANC\"]}\n",
    "test_otek_lanc = pd.DataFrame(test_otek_lanc)\n",
    "test_otek_lanc.columns = [\"Metric\", \"Decision Tree: SMOTE\", \"Decision Tree: Cost-sensitive\", \"Decision Tree: SMOTE + Cost-sensitive\"]\n",
    "\n",
    "test_otek_lanc"
   ],
   "outputs": [
    {
     "data": {
      "text/plain": [
       "      Metric  Decision Tree: SMOTE  Decision Tree: Cost-sensitive  \\\n",
       "0   Accuracy              0.794118                       0.521569   \n",
       "1  Precision              0.156627                       0.114173   \n",
       "2     Recall              0.270833                       0.604167   \n",
       "3   F1 Score              0.198473                       0.192053   \n",
       "4    ROC AUC              0.559659                       0.558577   \n",
       "\n",
       "   Decision Tree: SMOTE + Cost-sensitive  \n",
       "0                               0.752941  \n",
       "1                               0.125000  \n",
       "2                               0.270833  \n",
       "3                               0.171053  \n",
       "4                               0.536932  "
      ],
      "text/html": [
       "<div>\n",
       "<style scoped>\n",
       "    .dataframe tbody tr th:only-of-type {\n",
       "        vertical-align: middle;\n",
       "    }\n",
       "\n",
       "    .dataframe tbody tr th {\n",
       "        vertical-align: top;\n",
       "    }\n",
       "\n",
       "    .dataframe thead th {\n",
       "        text-align: right;\n",
       "    }\n",
       "</style>\n",
       "<table border=\"1\" class=\"dataframe\">\n",
       "  <thead>\n",
       "    <tr style=\"text-align: right;\">\n",
       "      <th></th>\n",
       "      <th>Metric</th>\n",
       "      <th>Decision Tree: SMOTE</th>\n",
       "      <th>Decision Tree: Cost-sensitive</th>\n",
       "      <th>Decision Tree: SMOTE + Cost-sensitive</th>\n",
       "    </tr>\n",
       "  </thead>\n",
       "  <tbody>\n",
       "    <tr>\n",
       "      <th>0</th>\n",
       "      <td>Accuracy</td>\n",
       "      <td>0.794118</td>\n",
       "      <td>0.521569</td>\n",
       "      <td>0.752941</td>\n",
       "    </tr>\n",
       "    <tr>\n",
       "      <th>1</th>\n",
       "      <td>Precision</td>\n",
       "      <td>0.156627</td>\n",
       "      <td>0.114173</td>\n",
       "      <td>0.125000</td>\n",
       "    </tr>\n",
       "    <tr>\n",
       "      <th>2</th>\n",
       "      <td>Recall</td>\n",
       "      <td>0.270833</td>\n",
       "      <td>0.604167</td>\n",
       "      <td>0.270833</td>\n",
       "    </tr>\n",
       "    <tr>\n",
       "      <th>3</th>\n",
       "      <td>F1 Score</td>\n",
       "      <td>0.198473</td>\n",
       "      <td>0.192053</td>\n",
       "      <td>0.171053</td>\n",
       "    </tr>\n",
       "    <tr>\n",
       "      <th>4</th>\n",
       "      <td>ROC AUC</td>\n",
       "      <td>0.559659</td>\n",
       "      <td>0.558577</td>\n",
       "      <td>0.536932</td>\n",
       "    </tr>\n",
       "  </tbody>\n",
       "</table>\n",
       "</div>"
      ]
     },
     "execution_count": 246,
     "metadata": {},
     "output_type": "execute_result"
    }
   ],
   "execution_count": 246
  },
  {
   "cell_type": "code",
   "id": "68157a8d9ca0e0d8",
   "metadata": {
    "colab": {
     "base_uri": "https://localhost:8080/"
    },
    "id": "68157a8d9ca0e0d8",
    "outputId": "69bc41bf-88f3-44dc-cbd1-33ec5229ae03",
    "ExecuteTime": {
     "end_time": "2024-06-02T02:49:57.205834Z",
     "start_time": "2024-06-02T02:49:57.192958Z"
    }
   },
   "source": [
    "# Confusion matrix\n",
    "test_SMOTE_balanced_conf[\"OTEK_LANC\"]"
   ],
   "outputs": [
    {
     "data": {
      "text/plain": [
       "0    392\n",
       "1     70\n",
       "2     35\n",
       "3     13\n",
       "Name: OTEK_LANC, dtype: int64"
      ]
     },
     "execution_count": 247,
     "metadata": {},
     "output_type": "execute_result"
    }
   ],
   "execution_count": 247
  },
  {
   "cell_type": "code",
   "id": "1fdeb7e3f4c6883a",
   "metadata": {
    "colab": {
     "base_uri": "https://localhost:8080/"
    },
    "id": "1fdeb7e3f4c6883a",
    "outputId": "2d5402bc-5d82-4387-aa4c-31d7107f5bef",
    "ExecuteTime": {
     "end_time": "2024-06-02T02:49:57.220347Z",
     "start_time": "2024-06-02T02:49:57.209845Z"
    }
   },
   "source": [
    "test_cost_sensitive_conf[\"OTEK_LANC\"]"
   ],
   "outputs": [
    {
     "data": {
      "text/plain": [
       "0    237\n",
       "1    225\n",
       "2     19\n",
       "3     29\n",
       "Name: OTEK_LANC, dtype: int64"
      ]
     },
     "execution_count": 248,
     "metadata": {},
     "output_type": "execute_result"
    }
   ],
   "execution_count": 248
  },
  {
   "cell_type": "code",
   "id": "c40780a6c8ee11fc",
   "metadata": {
    "colab": {
     "base_uri": "https://localhost:8080/"
    },
    "id": "c40780a6c8ee11fc",
    "outputId": "9f449587-9605-4b44-a148-cba52f11e397",
    "ExecuteTime": {
     "end_time": "2024-06-02T02:49:57.233426Z",
     "start_time": "2024-06-02T02:49:57.223359Z"
    }
   },
   "source": [
    "test_SMOTE_cost_sensitive_conf[\"OTEK_LANC\"]"
   ],
   "outputs": [
    {
     "data": {
      "text/plain": [
       "0    371\n",
       "1     91\n",
       "2     35\n",
       "3     13\n",
       "Name: OTEK_LANC, dtype: int64"
      ]
     },
     "execution_count": 249,
     "metadata": {},
     "output_type": "execute_result"
    }
   ],
   "execution_count": 249
  }
 ],
 "metadata": {
  "colab": {
   "provenance": []
  },
  "kernelspec": {
   "display_name": "Python 3 (ipykernel)",
   "name": "python3",
   "language": "python"
  },
  "language_info": {
   "codemirror_mode": {
    "name": "ipython",
    "version": 2
   },
   "file_extension": ".py",
   "mimetype": "text/x-python",
   "name": "python",
   "nbconvert_exporter": "python",
   "pygments_lexer": "ipython2",
   "version": "2.7.6"
  }
 },
 "nbformat": 4,
 "nbformat_minor": 5
}
